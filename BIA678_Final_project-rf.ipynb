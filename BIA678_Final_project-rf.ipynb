{
 "cells": [
  {
   "cell_type": "code",
   "execution_count": 1,
   "id": "8d5e88f6",
   "metadata": {
    "scrolled": true
   },
   "outputs": [],
   "source": [
    "#pip install pyspark"
   ]
  },
  {
   "cell_type": "code",
   "execution_count": 2,
   "id": "3c16b382",
   "metadata": {},
   "outputs": [],
   "source": [
    "#conda install -c cyclus java-jdk"
   ]
  },
  {
   "cell_type": "code",
   "execution_count": 3,
   "id": "85c06f45",
   "metadata": {},
   "outputs": [],
   "source": [
    "#pip install py4j"
   ]
  },
  {
   "cell_type": "code",
   "execution_count": 4,
   "id": "21861970",
   "metadata": {},
   "outputs": [
    {
     "name": "stderr",
     "output_type": "stream",
     "text": [
      "Using Spark's default log4j profile: org/apache/spark/log4j-defaults.properties\n",
      "Setting default log level to \"WARN\".\n",
      "To adjust logging level use sc.setLogLevel(newLevel). For SparkR, use setLogLevel(newLevel).\n",
      "22/05/06 12:26:48 WARN NativeCodeLoader: Unable to load native-hadoop library for your platform... using builtin-java classes where applicable\n",
      "22/05/06 12:26:50 WARN Utils: Service 'SparkUI' could not bind on port 4040. Attempting port 4041.\n"
     ]
    }
   ],
   "source": [
    "#load pySpark modules \n",
    "from pyspark.ml.tuning import ParamGridBuilder, CrossValidator\n",
    "from pyspark.ml.evaluation import BinaryClassificationEvaluator\n",
    "from pyspark.ml.evaluation import RegressionEvaluator\n",
    "from pyspark.sql import functions as F\n",
    "from pyspark.sql import SparkSession\n",
    "from pyspark import SparkContext, SparkConf\n",
    "from pyspark.sql.types import *\n",
    "from pyspark.sql.functions import *\n",
    "import time\n",
    "spark = SparkSession.builder.getOrCreate()\n",
    "spark = SparkSession.builder \\\n",
    "    .master('local[*]') \\\n",
    "    .config(\"spark.driver.memory\", \"30g\") \\\n",
    "    .config('spark.executor.memory=30g')\\\n",
    "    .appName('final') \\\n",
    "    .getOrCreate()\n",
    "sc=spark.sparkContext"
   ]
  },
  {
   "cell_type": "code",
   "execution_count": 5,
   "id": "6c64dc2f",
   "metadata": {},
   "outputs": [
    {
     "name": "stderr",
     "output_type": "stream",
     "text": [
      "                                                                                \r"
     ]
    },
    {
     "name": "stdout",
     "output_type": "stream",
     "text": [
      "+----------+---------+-------+---------------+-------------+--------+--------+\n",
      "|DayofMonth|DayOfWeek|Carrier|OriginAirportID|DestAirportID|DepDelay|ArrDelay|\n",
      "+----------+---------+-------+---------------+-------------+--------+--------+\n",
      "|        19|        5|     DL|          11433|        13303|      -3|       1|\n",
      "|        19|        5|     DL|          14869|        12478|       0|      -8|\n",
      "|        19|        5|     DL|          14057|        14869|      -4|     -15|\n",
      "|        19|        5|     DL|          15016|        11433|      28|      24|\n",
      "|        19|        5|     DL|          11193|        12892|      -6|     -11|\n",
      "+----------+---------+-------+---------------+-------------+--------+--------+\n",
      "only showing top 5 rows\n",
      "\n",
      "+----------+-----------+-----+--------------------+\n",
      "|airport_id|       city|state|                name|\n",
      "+----------+-----------+-----+--------------------+\n",
      "|     10165|Adak Island|   AK|                Adak|\n",
      "|     10299|  Anchorage|   AK|Ted Stevens Ancho...|\n",
      "|     10304|      Aniak|   AK|       Aniak Airport|\n",
      "|     10754|     Barrow|   AK|Wiley Post/Will R...|\n",
      "|     10551|     Bethel|   AK|      Bethel Airport|\n",
      "+----------+-----------+-----+--------------------+\n",
      "only showing top 5 rows\n",
      "\n"
     ]
    }
   ],
   "source": [
    "#load flight data file into pySpark dataFrame format\n",
    "\n",
    "flight = spark.read.csv(\"flights.csv\", inferSchema=True, header=True)\n",
    "airports = spark.read.csv(\"airports.csv\", inferSchema=True, header=True)\n",
    "flight.show(5)\n",
    "airports.show(5)\n"
   ]
  },
  {
   "cell_type": "code",
   "execution_count": 6,
   "id": "19d18d81",
   "metadata": {},
   "outputs": [
    {
     "name": "stderr",
     "output_type": "stream",
     "text": [
      "[Stage 8:>                                                          (0 + 1) / 1]\r"
     ]
    },
    {
     "name": "stdout",
     "output_type": "stream",
     "text": [
      "+----------+---------+-------+---------------+-------------+--------+---------+\n",
      "|DayofMonth|DayOfWeek|Carrier|OriginAirportID|DestAirportID|DepDelay|trueLabel|\n",
      "+----------+---------+-------+---------------+-------------+--------+---------+\n",
      "|         6|        1|     WN|          10821|        10140|       1|        0|\n",
      "|         8|        1|     AA|          11298|        10140|       0|        0|\n",
      "|        15|        1|     WN|          14747|        10140|      -6|        0|\n",
      "|        27|        1|     AA|          11298|        10140|     113|        1|\n",
      "|         7|        2|     OO|          12266|        10140|      -3|        0|\n",
      "+----------+---------+-------+---------------+-------------+--------+---------+\n",
      "only showing top 5 rows\n",
      "\n"
     ]
    },
    {
     "name": "stderr",
     "output_type": "stream",
     "text": [
      "\r",
      "                                                                                \r"
     ]
    }
   ],
   "source": [
    "df_dis = flight.distinct()\n",
    "df_f = df_dis.select('DayofMonth','DayOfWeek','Carrier','OriginAirportID','DestAirportID','DepDelay',((col(\"ArrDelay\") > 15).cast(\"Int\").alias(\"label\")))\n",
    "df_f = df_f.withColumnRenamed(\"label\", \"trueLabel\")\n",
    "df_f.show(5)"
   ]
  },
  {
   "cell_type": "markdown",
   "id": "e64c63d9",
   "metadata": {},
   "source": [
    "### Define the Pipeline and split the data "
   ]
  },
  {
   "cell_type": "code",
   "execution_count": 24,
   "id": "0813bed9",
   "metadata": {},
   "outputs": [],
   "source": [
    "from pyspark.ml.feature import VectorAssembler, StringIndexer, VectorIndexer, MinMaxScaler\n",
    "strIdx = StringIndexer(inputCol = \"Carrier\", outputCol = \"CarrierIdx\")\n",
    "catVect = VectorAssembler(inputCols = [\"CarrierIdx\", \"DayofMonth\", \"DayOfWeek\", \"OriginAirportID\", \"DestAirportID\"], outputCol=\"catFeatures\")\n",
    "catIdx = VectorIndexer(inputCol = catVect.getOutputCol(), outputCol = \"idxCatFeatures\")\n",
    "numVect = VectorAssembler(inputCols = [\"DepDelay\"], outputCol=\"numFeatures\")\n",
    "minMax = MinMaxScaler(inputCol = numVect.getOutputCol(), outputCol=\"normFeatures\")\n",
    "featVect = VectorAssembler(inputCols=[\"idxCatFeatures\", \"normFeatures\"], outputCol=\"features\")\n",
    "label_stringIdx = StringIndexer(inputCol = 'trueLabel', outputCol = 'label')\n",
    "train, test = df_f.randomSplit([0.8, 0.2], seed = 2018)\n"
   ]
  },
  {
   "cell_type": "markdown",
   "id": "3bb21479",
   "metadata": {},
   "source": [
    "### build the RandomForestClassifier model"
   ]
  },
  {
   "cell_type": "code",
   "execution_count": 25,
   "id": "19653163",
   "metadata": {},
   "outputs": [
    {
     "name": "stderr",
     "output_type": "stream",
     "text": [
      "22/05/06 16:58:01 WARN MemoryStore: Not enough space to cache rdd_1799_2 in memory! (computed 18.5 MiB so far)\n",
      "22/05/06 16:58:01 WARN BlockManager: Persisting block rdd_1799_2 to disk instead.\n",
      "22/05/06 16:58:01 WARN MemoryStore: Not enough space to cache rdd_1799_3 in memory! (computed 18.5 MiB so far)\n",
      "22/05/06 16:58:01 WARN BlockManager: Persisting block rdd_1799_3 to disk instead.\n",
      "22/05/06 16:58:02 WARN MemoryStore: Not enough space to cache rdd_1799_1 in memory! (computed 42.7 MiB so far)\n",
      "22/05/06 16:58:02 WARN BlockManager: Persisting block rdd_1799_1 to disk instead.\n",
      "22/05/06 16:58:03 WARN MemoryStore: Not enough space to cache rdd_1799_0 in memory! (computed 42.7 MiB so far)\n",
      "22/05/06 16:58:03 WARN BlockManager: Persisting block rdd_1799_0 to disk instead.\n",
      "22/05/06 16:58:09 WARN MemoryStore: Not enough space to cache rdd_1799_2 in memory! (computed 96.2 MiB so far)\n",
      "22/05/06 16:58:09 WARN MemoryStore: Not enough space to cache rdd_1799_3 in memory! (computed 64.1 MiB so far)\n",
      "22/05/06 16:58:09 WARN MemoryStore: Not enough space to cache rdd_1799_1 in memory! (computed 96.2 MiB so far)\n",
      "22/05/06 16:58:09 WARN MemoryStore: Not enough space to cache rdd_1799_0 in memory! (computed 96.2 MiB so far)\n",
      "22/05/06 16:58:13 WARN MemoryStore: Not enough space to cache rdd_1799_3 in memory! (computed 64.1 MiB so far)\n",
      "22/05/06 16:58:13 WARN MemoryStore: Not enough space to cache rdd_1799_1 in memory! (computed 96.2 MiB so far)\n",
      "22/05/06 16:58:13 WARN MemoryStore: Not enough space to cache rdd_1799_0 in memory! (computed 96.2 MiB so far)\n",
      "22/05/06 16:58:14 WARN MemoryStore: Not enough space to cache rdd_1799_2 in memory! (computed 96.2 MiB so far)\n",
      "22/05/06 16:58:17 WARN MemoryStore: Not enough space to cache rdd_1799_1 in memory! (computed 64.1 MiB so far)\n",
      "22/05/06 16:58:18 WARN MemoryStore: Not enough space to cache rdd_1799_2 in memory! (computed 96.2 MiB so far)\n",
      "22/05/06 16:58:18 WARN MemoryStore: Not enough space to cache rdd_1799_3 in memory! (computed 96.2 MiB so far)\n",
      "22/05/06 16:58:18 WARN MemoryStore: Not enough space to cache rdd_1799_0 in memory! (computed 96.2 MiB so far)\n",
      "22/05/06 16:58:24 WARN MemoryStore: Not enough space to cache rdd_1799_2 in memory! (computed 64.1 MiB so far)\n",
      "22/05/06 16:58:24 WARN MemoryStore: Not enough space to cache rdd_1799_0 in memory! (computed 96.2 MiB so far)\n",
      "22/05/06 16:58:24 WARN MemoryStore: Not enough space to cache rdd_1799_1 in memory! (computed 96.2 MiB so far)\n",
      "22/05/06 16:58:24 WARN MemoryStore: Not enough space to cache rdd_1799_3 in memory! (computed 96.2 MiB so far)\n",
      "22/05/06 16:58:29 WARN MemoryStore: Not enough space to cache rdd_1799_1 in memory! (computed 64.1 MiB so far)\n",
      "22/05/06 16:58:30 WARN MemoryStore: Not enough space to cache rdd_1799_0 in memory! (computed 96.2 MiB so far)\n",
      "22/05/06 16:58:30 WARN MemoryStore: Not enough space to cache rdd_1799_2 in memory! (computed 96.2 MiB so far)\n",
      "22/05/06 16:58:30 WARN MemoryStore: Not enough space to cache rdd_1799_3 in memory! (computed 96.2 MiB so far)\n",
      "[Stage 873:==============>                                          (1 + 3) / 4]\r"
     ]
    },
    {
     "name": "stdout",
     "output_type": "stream",
     "text": [
      "107.06662011146545\n"
     ]
    },
    {
     "name": "stderr",
     "output_type": "stream",
     "text": [
      "\r",
      "[Stage 873:============================>                            (2 + 2) / 4]\r"
     ]
    }
   ],
   "source": [
    "from pyspark.ml.classification import RandomForestClassifier\n",
    "from pyspark.ml import Pipeline\n",
    "rf = RandomForestClassifier(featuresCol = 'features', labelCol = 'label')\n",
    "\n",
    "pipeline = Pipeline(stages=[strIdx, catVect, catIdx, numVect, minMax, featVect,label_stringIdx, rf])\n",
    "#train the model\n",
    "t1 = time.time()\n",
    "rfmodel = pipeline.fit(train)\n",
    "t2 = time.time()\n",
    "print(t2-t1)"
   ]
  },
  {
   "cell_type": "markdown",
   "id": "68011180",
   "metadata": {},
   "source": [
    "#### Make predictions on the test set"
   ]
  },
  {
   "cell_type": "code",
   "execution_count": 26,
   "id": "8a69c3e2",
   "metadata": {},
   "outputs": [
    {
     "name": "stderr",
     "output_type": "stream",
     "text": [
      "[Stage 876:>                                                        (0 + 1) / 1]\r"
     ]
    },
    {
     "name": "stdout",
     "output_type": "stream",
     "text": [
      "+--------------------+-----+----------+---------+\n",
      "|            features|label|prediction|trueLabel|\n",
      "+--------------------+-----+----------+---------+\n",
      "|[10.0,1.0,0.0,103...|  0.0|       0.0|        0|\n",
      "|[10.0,1.0,0.0,104...|  0.0|       0.0|        0|\n",
      "|[10.0,1.0,0.0,107...|  0.0|       0.0|        0|\n",
      "|[10.0,1.0,0.0,107...|  1.0|       0.0|        1|\n",
      "|[10.0,1.0,0.0,107...|  0.0|       0.0|        0|\n",
      "+--------------------+-----+----------+---------+\n",
      "only showing top 5 rows\n",
      "\n"
     ]
    },
    {
     "name": "stderr",
     "output_type": "stream",
     "text": [
      "\r",
      "                                                                                \r"
     ]
    }
   ],
   "source": [
    "predictions = rfmodel.transform(test)\n",
    "predictions_rf = predictions.select(\"features\", 'label',\"prediction\", \"trueLabel\")\n",
    "predictions_rf.show(5)\n",
    "#predictions.show(5)"
   ]
  },
  {
   "cell_type": "markdown",
   "id": "115edafe",
   "metadata": {},
   "source": [
    "#### Evaluate our  model."
   ]
  },
  {
   "cell_type": "code",
   "execution_count": 27,
   "id": "ecdde924",
   "metadata": {},
   "outputs": [
    {
     "name": "stderr",
     "output_type": "stream",
     "text": [
      "                                                                                \r"
     ]
    },
    {
     "name": "stdout",
     "output_type": "stream",
     "text": [
      "+---------+------------------+\n",
      "|   metric|             value|\n",
      "+---------+------------------+\n",
      "|       TP|           75942.0|\n",
      "|       FP|            8267.0|\n",
      "|       TN|          423188.0|\n",
      "|       FN|           31448.0|\n",
      "|Precision|0.9018275956251707|\n",
      "|   Recall|0.7071608157184095|\n",
      "|       F1|0.7927181248336368|\n",
      "+---------+------------------+\n",
      "\n"
     ]
    }
   ],
   "source": [
    "#Evaluating prediction results\n",
    "\n",
    "tp = float(predictions.filter(\"prediction == 1.0 AND label == 1\").count())\n",
    "fp = float(predictions.filter(\"prediction == 1.0 AND label == 0\").count())\n",
    "tn = float(predictions.filter(\"prediction == 0.0 AND label == 0\").count())\n",
    "fn = float(predictions.filter(\"prediction == 0.0 AND label == 1\").count())\n",
    "pr = tp / (tp + fp)\n",
    "re = tp / (tp + fn)\n",
    "metrics = spark.createDataFrame([\n",
    " (\"TP\", tp),\n",
    " (\"FP\", fp),\n",
    " (\"TN\", tn),\n",
    " (\"FN\", fn),\n",
    " (\"Precision\", pr),\n",
    " (\"Recall\", re),\n",
    " (\"F1\", 2*pr*re/(re+pr))],[\"metric\", \"value\"])\n",
    "metrics.show()"
   ]
  },
  {
   "cell_type": "code",
   "execution_count": 28,
   "id": "619b6ac2",
   "metadata": {},
   "outputs": [
    {
     "name": "stderr",
     "output_type": "stream",
     "text": [
      "[Stage 905:>                                                        (0 + 4) / 4]\r"
     ]
    },
    {
     "name": "stdout",
     "output_type": "stream",
     "text": [
      "Test Area Under ROC 0.8989897047300137\n"
     ]
    },
    {
     "name": "stderr",
     "output_type": "stream",
     "text": [
      "\r",
      "[Stage 905:============================>                            (2 + 2) / 4]\r",
      "\r",
      "                                                                                \r"
     ]
    }
   ],
   "source": [
    "#Evaluate our Logistic Regression model.\n",
    "from pyspark.ml.evaluation import BinaryClassificationEvaluator\n",
    "evaluator = BinaryClassificationEvaluator()\n",
    "print('Test Area Under ROC', evaluator.evaluate(predictions))"
   ]
  },
  {
   "cell_type": "code",
   "execution_count": 29,
   "id": "615acad9",
   "metadata": {},
   "outputs": [
    {
     "name": "stderr",
     "output_type": "stream",
     "text": [
      "                                                                                \r"
     ]
    },
    {
     "name": "stdout",
     "output_type": "stream",
     "text": [
      "accuracy =  0.9262960591635814\n"
     ]
    }
   ],
   "source": [
    "from sklearn import metrics\n",
    "actual =predictions.select('label').toPandas()\n",
    "predicted = predictions.select('prediction').toPandas()\n",
    "accuracy = metrics.accuracy_score(actual, predicted)\n",
    "print('accuracy = ', accuracy)"
   ]
  },
  {
   "cell_type": "code",
   "execution_count": 13,
   "id": "f74f0920",
   "metadata": {},
   "outputs": [
    {
     "name": "stderr",
     "output_type": "stream",
     "text": [
      "/var/folders/gw/yh0lqvkx31988_00fxgrp7680000gn/T/ipykernel_13933/123946932.py:14: UserWarning: color is redundantly defined by the 'color' keyword argument and the fmt string \"k--\" (-> color='k'). The keyword argument will take precedence.\n",
      "  plt.plot([0,1], [0,1], 'k--', color='orange')\n"
     ]
    },
    {
     "data": {
      "image/png": "[encoded data removed]",
      "text/plain": [
       "<Figure size 432x288 with 1 Axes>"
      ]
     },
     "metadata": {
      "needs_background": "light"
     },
     "output_type": "display_data"
    }
   ],
   "source": [
    "import numpy as np\n",
    "import matplotlib.pyplot as plt\n",
    "pred_pd_full = predictions.select(['label', 'prediction', 'probability']).toPandas()\n",
    "pred_pd_full['probability'] = pred_pd_full['probability'].map(lambda x: list(x))\n",
    "pred_pd_full['encoded_label'] = pred_pd_full['label'].map(lambda x: np.eye(2)[int(x)])\n",
    "\n",
    "y_pred = np.array(pred_pd_full['probability'].tolist())\n",
    "y_true = np.array(pred_pd_full['encoded_label'].tolist())\n",
    "from sklearn.metrics import auc, roc_curve\n",
    "fpr, tpr, threshold = roc_curve(y_score=y_pred[:,0], y_true=y_true[:,0])\n",
    "auc = auc(fpr, tpr)\n",
    "\n",
    "\n",
    "plt.plot([0,1], [0,1], 'k--', color='orange')\n",
    "plt.plot(fpr, tpr, label='auc = {:.3f}'.format(auc))\n",
    "plt.xlabel('False positive rate')\n",
    "plt.ylabel('True positive rate')\n",
    "plt.title('ROC curve - RandomForest')\n",
    "plt.legend(loc='lower right')\n",
    "plt.grid()\n",
    "plt.show()"
   ]
  },
  {
   "cell_type": "code",
   "execution_count": 30,
   "id": "e21d975b",
   "metadata": {},
   "outputs": [],
   "source": [
    "train5, test5 = df_f.randomSplit([0.5, 0.5], seed = 2000)\n",
    "train6, test6 = df_f.randomSplit([0.5, 0.5], seed = 2001)\n",
    "train7, test7 = df_f.randomSplit([0.5, 0.5], seed = 2002)\n",
    "train9, test9 = df_f.randomSplit([0.5, 0.5], seed = 2003)"
   ]
  },
  {
   "cell_type": "code",
   "execution_count": 31,
   "id": "66d153e8",
   "metadata": {},
   "outputs": [
    {
     "name": "stderr",
     "output_type": "stream",
     "text": [
      "22/05/06 17:01:00 WARN MemoryStore: Not enough space to cache rdd_2000_1 in memory! (computed 18.5 MiB so far)\n",
      "22/05/06 17:01:00 WARN BlockManager: Persisting block rdd_2000_1 to disk instead.\n",
      "22/05/06 17:01:00 WARN MemoryStore: Not enough space to cache rdd_2000_3 in memory! (computed 18.5 MiB so far)\n",
      "22/05/06 17:01:00 WARN BlockManager: Persisting block rdd_2000_3 to disk instead.\n",
      "22/05/06 17:01:02 WARN MemoryStore: Not enough space to cache rdd_2000_0 in memory! (computed 42.7 MiB so far)\n",
      "22/05/06 17:01:02 WARN BlockManager: Persisting block rdd_2000_0 to disk instead.\n",
      "22/05/06 17:01:02 WARN MemoryStore: Not enough space to cache rdd_2000_2 in memory! (computed 42.7 MiB so far)\n",
      "22/05/06 17:01:02 WARN BlockManager: Persisting block rdd_2000_2 to disk instead.\n",
      "[Stage 971:==============>                                          (1 + 3) / 4]\r"
     ]
    },
    {
     "name": "stdout",
     "output_type": "stream",
     "text": [
      "78.11148023605347\n"
     ]
    },
    {
     "name": "stderr",
     "output_type": "stream",
     "text": [
      "                                                                                \r"
     ]
    },
    {
     "name": "stdout",
     "output_type": "stream",
     "text": [
      "+---------+------------------+\n",
      "|   metric|             value|\n",
      "+---------+------------------+\n",
      "|       TP|          186654.0|\n",
      "|       FP|           17615.0|\n",
      "|       TN|         1061872.0|\n",
      "|       FN|           82104.0|\n",
      "|Precision|0.9137656717367785|\n",
      "|   Recall|0.6945058379657536|\n",
      "|       F1|0.7891896234253014|\n",
      "+---------+------------------+\n",
      "\n"
     ]
    },
    {
     "name": "stderr",
     "output_type": "stream",
     "text": [
      "                                                                                \r"
     ]
    },
    {
     "name": "stdout",
     "output_type": "stream",
     "text": [
      "AUC =  0.8982416262702655\n"
     ]
    }
   ],
   "source": [
    "#train the model\n",
    "t1 = time.time()\n",
    "rfmodel = pipeline.fit(train5)\n",
    "t2 = time.time()\n",
    "print(t2-t1)\n",
    "#predict the model\n",
    "predictions5 = rfmodel.transform(test5)\n",
    "#evaluate the model\n",
    "tp = float(predictions5.filter(\"prediction == 1.0 AND label == 1\").count())\n",
    "fp = float(predictions5.filter(\"prediction == 1.0 AND label == 0\").count())\n",
    "tn = float(predictions5.filter(\"prediction == 0.0 AND label == 0\").count())\n",
    "fn = float(predictions5.filter(\"prediction == 0.0 AND label == 1\").count())\n",
    "pr = tp / (tp + fp)\n",
    "re = tp / (tp + fn)\n",
    "metrics = spark.createDataFrame([\n",
    " (\"TP\", tp),\n",
    " (\"FP\", fp),\n",
    " (\"TN\", tn),\n",
    " (\"FN\", fn),\n",
    " (\"Precision\", pr),\n",
    " (\"Recall\", re),\n",
    " (\"F1\", 2*pr*re/(re+pr))],[\"metric\", \"value\"])\n",
    "metrics.show()\n",
    "#evaluate AUC\n",
    "evaluator = BinaryClassificationEvaluator(labelCol=\"trueLabel\", rawPredictionCol=\"rawPrediction\", metricName=\"areaUnderROC\")\n",
    "print('AUC = ', evaluator.evaluate(predictions5))\n"
   ]
  },
  {
   "cell_type": "code",
   "execution_count": 32,
   "id": "2cf29a69",
   "metadata": {},
   "outputs": [
    {
     "name": "stderr",
     "output_type": "stream",
     "text": [
      "22/05/06 17:03:39 WARN MemoryStore: Not enough space to cache rdd_2180_0 in memory! (computed 18.5 MiB so far)\n",
      "22/05/06 17:03:39 WARN BlockManager: Persisting block rdd_2180_0 to disk instead.\n",
      "22/05/06 17:03:39 WARN MemoryStore: Not enough space to cache rdd_2180_1 in memory! (computed 28.5 MiB so far)\n",
      "22/05/06 17:03:39 WARN BlockManager: Persisting block rdd_2180_1 to disk instead.\n",
      "22/05/06 17:03:39 WARN MemoryStore: Not enough space to cache rdd_2180_3 in memory! (computed 18.5 MiB so far)\n",
      "22/05/06 17:03:39 WARN BlockManager: Persisting block rdd_2180_3 to disk instead.\n",
      "[Stage 1060:==========================================>             (3 + 1) / 4]\r"
     ]
    },
    {
     "name": "stdout",
     "output_type": "stream",
     "text": [
      "100.74328088760376\n"
     ]
    },
    {
     "name": "stderr",
     "output_type": "stream",
     "text": [
      "                                                                                \r"
     ]
    },
    {
     "name": "stdout",
     "output_type": "stream",
     "text": [
      "+---------+------------------+\n",
      "|   metric|             value|\n",
      "+---------+------------------+\n",
      "|       TP|          190892.0|\n",
      "|       FP|           20817.0|\n",
      "|       TN|         1058055.0|\n",
      "|       FN|           78558.0|\n",
      "|Precision|0.9016716341771016|\n",
      "|   Recall|0.7084505474113936|\n",
      "|       F1|0.7934674400769808|\n",
      "+---------+------------------+\n",
      "\n"
     ]
    },
    {
     "name": "stderr",
     "output_type": "stream",
     "text": [
      "[Stage 1089:>                                                       (0 + 4) / 4]\r"
     ]
    },
    {
     "name": "stdout",
     "output_type": "stream",
     "text": [
      "AUC =  0.9019860075783623\n"
     ]
    },
    {
     "name": "stderr",
     "output_type": "stream",
     "text": [
      "\r",
      "[Stage 1089:==============>                                         (1 + 3) / 4]\r",
      "\r",
      "                                                                                \r"
     ]
    }
   ],
   "source": [
    "#train the model\n",
    "t1 = time.time()\n",
    "rfmodel = pipeline.fit(train6)\n",
    "t2 = time.time()\n",
    "print(t2-t1)\n",
    "#predict the model\n",
    "predictions6 = rfmodel.transform(test6)\n",
    "#evaluate the model\n",
    "tp = float(predictions6.filter(\"prediction == 1.0 AND label == 1\").count())\n",
    "fp = float(predictions6.filter(\"prediction == 1.0 AND label == 0\").count())\n",
    "tn = float(predictions6.filter(\"prediction == 0.0 AND label == 0\").count())\n",
    "fn = float(predictions6.filter(\"prediction == 0.0 AND label == 1\").count())\n",
    "pr = tp / (tp + fp)\n",
    "re = tp / (tp + fn)\n",
    "metrics = spark.createDataFrame([\n",
    " (\"TP\", tp),\n",
    " (\"FP\", fp),\n",
    " (\"TN\", tn),\n",
    " (\"FN\", fn),\n",
    " (\"Precision\", pr),\n",
    " (\"Recall\", re),\n",
    " (\"F1\", 2*pr*re/(re+pr))],[\"metric\", \"value\"])\n",
    "metrics.show()\n",
    "#evaluate AUC\n",
    "evaluator = BinaryClassificationEvaluator(labelCol=\"trueLabel\", rawPredictionCol=\"rawPrediction\", metricName=\"areaUnderROC\")\n",
    "print('AUC = ', evaluator.evaluate(predictions6))\n"
   ]
  },
  {
   "cell_type": "code",
   "execution_count": 33,
   "id": "6adefe7f",
   "metadata": {},
   "outputs": [
    {
     "name": "stderr",
     "output_type": "stream",
     "text": [
      "22/05/06 17:05:58 WARN MemoryStore: Not enough space to cache rdd_2360_2 in memory! (computed 18.5 MiB so far)\n",
      "22/05/06 17:05:58 WARN BlockManager: Persisting block rdd_2360_2 to disk instead.\n",
      "22/05/06 17:05:58 WARN MemoryStore: Not enough space to cache rdd_2360_3 in memory! (computed 18.5 MiB so far)\n",
      "22/05/06 17:05:58 WARN BlockManager: Persisting block rdd_2360_3 to disk instead.\n",
      "22/05/06 17:05:59 WARN MemoryStore: Not enough space to cache rdd_2360_0 in memory! (computed 42.7 MiB so far)\n",
      "22/05/06 17:05:59 WARN BlockManager: Persisting block rdd_2360_0 to disk instead.\n",
      "22/05/06 17:05:59 WARN MemoryStore: Not enough space to cache rdd_2360_1 in memory! (computed 42.7 MiB so far)\n",
      "22/05/06 17:05:59 WARN BlockManager: Persisting block rdd_2360_1 to disk instead.\n",
      "[Stage 1149:============================>                           (2 + 2) / 4]\r"
     ]
    },
    {
     "name": "stdout",
     "output_type": "stream",
     "text": [
      "78.74678206443787\n"
     ]
    },
    {
     "name": "stderr",
     "output_type": "stream",
     "text": [
      "                                                                                \r"
     ]
    },
    {
     "name": "stdout",
     "output_type": "stream",
     "text": [
      "+---------+------------------+\n",
      "|   metric|             value|\n",
      "+---------+------------------+\n",
      "|       TP|          194240.0|\n",
      "|       FP|           24558.0|\n",
      "|       TN|         1054943.0|\n",
      "|       FN|           74413.0|\n",
      "|Precision|0.8877594859185185|\n",
      "|   Recall|0.7230144461442828|\n",
      "|       F1|0.7969621561962126|\n",
      "+---------+------------------+\n",
      "\n"
     ]
    },
    {
     "name": "stderr",
     "output_type": "stream",
     "text": [
      "[Stage 1178:>                                                       (0 + 4) / 4]\r"
     ]
    },
    {
     "name": "stdout",
     "output_type": "stream",
     "text": [
      "AUC =  0.9026620188075808\n"
     ]
    },
    {
     "name": "stderr",
     "output_type": "stream",
     "text": [
      "\r",
      "[Stage 1178:==============>                                         (1 + 3) / 4]\r",
      "\r",
      "                                                                                \r"
     ]
    }
   ],
   "source": [
    "#train the model\n",
    "t1 = time.time()\n",
    "rfmodel = pipeline.fit(train7)\n",
    "t2 = time.time()\n",
    "print(t2-t1)\n",
    "#predict the model\n",
    "predictions7 = rfmodel.transform(test7)\n",
    "#evaluate the model\n",
    "tp = float(predictions7.filter(\"prediction == 1.0 AND label == 1\").count())\n",
    "fp = float(predictions7.filter(\"prediction == 1.0 AND label == 0\").count())\n",
    "tn = float(predictions7.filter(\"prediction == 0.0 AND label == 0\").count())\n",
    "fn = float(predictions7.filter(\"prediction == 0.0 AND label == 1\").count())\n",
    "pr = tp / (tp + fp)\n",
    "re = tp / (tp + fn)\n",
    "metrics = spark.createDataFrame([\n",
    " (\"TP\", tp),\n",
    " (\"FP\", fp),\n",
    " (\"TN\", tn),\n",
    " (\"FN\", fn),\n",
    " (\"Precision\", pr),\n",
    " (\"Recall\", re),\n",
    " (\"F1\", 2*pr*re/(re+pr))],[\"metric\", \"value\"])\n",
    "metrics.show()\n",
    "#evaluate AUC\n",
    "evaluator = BinaryClassificationEvaluator(labelCol=\"trueLabel\", rawPredictionCol=\"rawPrediction\", metricName=\"areaUnderROC\")\n",
    "print('AUC = ', evaluator.evaluate(predictions7))"
   ]
  },
  {
   "cell_type": "code",
   "execution_count": 34,
   "id": "15ac0828",
   "metadata": {},
   "outputs": [
    {
     "name": "stderr",
     "output_type": "stream",
     "text": [
      "22/05/06 17:08:12 WARN MemoryStore: Not enough space to cache rdd_2540_3 in memory! (computed 18.5 MiB so far)\n",
      "22/05/06 17:08:12 WARN BlockManager: Persisting block rdd_2540_3 to disk instead.\n",
      "22/05/06 17:08:12 WARN MemoryStore: Not enough space to cache rdd_2540_2 in memory! (computed 18.5 MiB so far)\n",
      "22/05/06 17:08:12 WARN BlockManager: Persisting block rdd_2540_2 to disk instead.\n",
      "22/05/06 17:08:13 WARN MemoryStore: Not enough space to cache rdd_2540_1 in memory! (computed 42.7 MiB so far)\n",
      "22/05/06 17:08:13 WARN BlockManager: Persisting block rdd_2540_1 to disk instead.\n",
      "22/05/06 17:08:14 WARN MemoryStore: Not enough space to cache rdd_2540_0 in memory! (computed 42.7 MiB so far)\n",
      "22/05/06 17:08:14 WARN BlockManager: Persisting block rdd_2540_0 to disk instead.\n",
      "[Stage 1238:==============>                                         (1 + 3) / 4]\r"
     ]
    },
    {
     "name": "stdout",
     "output_type": "stream",
     "text": [
      "76.2203917503357\n"
     ]
    },
    {
     "name": "stderr",
     "output_type": "stream",
     "text": [
      "                                                                                \r"
     ]
    },
    {
     "name": "stdout",
     "output_type": "stream",
     "text": [
      "+---------+------------------+\n",
      "|   metric|             value|\n",
      "+---------+------------------+\n",
      "|       TP|          190398.0|\n",
      "|       FP|           21006.0|\n",
      "|       TN|         1058617.0|\n",
      "|       FN|           78166.0|\n",
      "|Precision| 0.900635749560084|\n",
      "|   Recall|0.7089483326134552|\n",
      "|       F1|0.7933778918594573|\n",
      "+---------+------------------+\n",
      "\n"
     ]
    },
    {
     "name": "stderr",
     "output_type": "stream",
     "text": [
      "                                                                                \r"
     ]
    },
    {
     "name": "stdout",
     "output_type": "stream",
     "text": [
      "AUC =  0.8996417976572527\n"
     ]
    }
   ],
   "source": [
    "#train the model\n",
    "t1 = time.time()\n",
    "rfmodel = pipeline.fit(train9)\n",
    "t2 = time.time()\n",
    "print(t2-t1)\n",
    "#predict the model\n",
    "predictions9 = rfmodel.transform(test9)\n",
    "#evaluate the model\n",
    "tp = float(predictions9.filter(\"prediction == 1.0 AND label == 1\").count())\n",
    "fp = float(predictions9.filter(\"prediction == 1.0 AND label == 0\").count())\n",
    "tn = float(predictions9.filter(\"prediction == 0.0 AND label == 0\").count())\n",
    "fn = float(predictions9.filter(\"prediction == 0.0 AND label == 1\").count())\n",
    "pr = tp / (tp + fp)\n",
    "re = tp / (tp + fn)\n",
    "metrics = spark.createDataFrame([\n",
    " (\"TP\", tp),\n",
    " (\"FP\", fp),\n",
    " (\"TN\", tn),\n",
    " (\"FN\", fn),\n",
    " (\"Precision\", pr),\n",
    " (\"Recall\", re),\n",
    " (\"F1\", 2*pr*re/(re+pr))],[\"metric\", \"value\"])\n",
    "metrics.show()\n",
    "#evaluate AUC\n",
    "evaluator = BinaryClassificationEvaluator(labelCol=\"trueLabel\", rawPredictionCol=\"rawPrediction\", metricName=\"areaUnderROC\")\n",
    "print('AUC = ', evaluator.evaluate(predictions9))"
   ]
  },
  {
   "cell_type": "code",
   "execution_count": 35,
   "id": "0b41444c",
   "metadata": {},
   "outputs": [
    {
     "name": "stderr",
     "output_type": "stream",
     "text": [
      "                                                                                \r"
     ]
    },
    {
     "name": "stdout",
     "output_type": "stream",
     "text": [
      "accuracy =  0.9260379233744609\n"
     ]
    }
   ],
   "source": [
    "from sklearn import metrics\n",
    "actual5 =predictions5.select('label').toPandas()\n",
    "predicted5 = predictions5.select('prediction').toPandas()\n",
    "accuracy5 = metrics.accuracy_score(actual5, predicted5)\n",
    "print('accuracy = ', accuracy5)"
   ]
  },
  {
   "cell_type": "code",
   "execution_count": 36,
   "id": "a737223c",
   "metadata": {},
   "outputs": [
    {
     "name": "stderr",
     "output_type": "stream",
     "text": [
      "                                                                                \r"
     ]
    },
    {
     "name": "stdout",
     "output_type": "stream",
     "text": [
      "accuracy6 =  0.9262972791365861\n"
     ]
    }
   ],
   "source": [
    "#evaluate accuracy\n",
    "actual6 =predictions6.select('label').toPandas()\n",
    "predicted6 = predictions6.select('prediction').toPandas()\n",
    "accuracy6= metrics.accuracy_score(actual6, predicted6)\n",
    "print('accuracy6 = ', accuracy6)"
   ]
  },
  {
   "cell_type": "code",
   "execution_count": 37,
   "id": "e4edc7f1",
   "metadata": {},
   "outputs": [
    {
     "name": "stderr",
     "output_type": "stream",
     "text": [
      "                                                                                \r"
     ]
    },
    {
     "name": "stdout",
     "output_type": "stream",
     "text": [
      "accuracy7 =  0.9265877637124542\n"
     ]
    }
   ],
   "source": [
    "#evaluate accuracy\n",
    "actual7 =predictions7.select('label').toPandas()\n",
    "predicted7 = predictions7.select('prediction').toPandas()\n",
    "accuracy7 = metrics.accuracy_score(actual7, predicted7)\n",
    "print('accuracy7 = ', accuracy7)"
   ]
  },
  {
   "cell_type": "code",
   "execution_count": 38,
   "id": "f0525095",
   "metadata": {},
   "outputs": [
    {
     "name": "stderr",
     "output_type": "stream",
     "text": [
      "                                                                                \r"
     ]
    },
    {
     "name": "stdout",
     "output_type": "stream",
     "text": [
      "accuracy9 =  0.9264404715369604\n"
     ]
    }
   ],
   "source": [
    "#evaluate accuracy\n",
    "actual9 =predictions9.select('label').toPandas()\n",
    "predicted9 = predictions9.select('prediction').toPandas()\n",
    "accuracy9 = metrics.accuracy_score(actual9, predicted9)\n",
    "print('accuracy9 = ', accuracy9)"
   ]
  },
  {
   "cell_type": "code",
   "execution_count": null,
   "id": "b97c6ecf",
   "metadata": {},
   "outputs": [],
   "source": [
    "#sc.stop()"
   ]
  },
  {
   "cell_type": "code",
   "execution_count": null,
   "id": "d8c6a786",
   "metadata": {},
   "outputs": [],
   "source": []
  }
 ],
 "metadata": {
  "kernelspec": {
   "display_name": "Python 3 (ipykernel)",
   "language": "python",
   "name": "python3"
  },
  "language_info": {
   "codemirror_mode": {
    "name": "ipython",
    "version": 3
   },
   "file_extension": ".py",
   "mimetype": "text/x-python",
   "name": "python",
   "nbconvert_exporter": "python",
   "pygments_lexer": "ipython3",
   "version": "3.9.7"
  }
 },
 "nbformat": 4,
 "nbformat_minor": 5
}
