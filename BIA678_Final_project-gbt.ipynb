{
 "cells": [
  {
   "cell_type": "code",
   "execution_count": 1,
   "id": "8d5e88f6",
   "metadata": {
    "scrolled": true
   },
   "outputs": [],
   "source": [
    "#pip install pyspark"
   ]
  },
  {
   "cell_type": "code",
   "execution_count": 2,
   "id": "3c16b382",
   "metadata": {},
   "outputs": [],
   "source": [
    "#conda install -c cyclus java-jdk"
   ]
  },
  {
   "cell_type": "code",
   "execution_count": 3,
   "id": "85c06f45",
   "metadata": {},
   "outputs": [],
   "source": [
    "#pip install py4j"
   ]
  },
  {
   "cell_type": "code",
   "execution_count": 4,
   "id": "21861970",
   "metadata": {},
   "outputs": [
    {
     "name": "stderr",
     "output_type": "stream",
     "text": [
      "Using Spark's default log4j profile: org/apache/spark/log4j-defaults.properties\n",
      "Setting default log level to \"WARN\".\n",
      "To adjust logging level use sc.setLogLevel(newLevel). For SparkR, use setLogLevel(newLevel).\n",
      "22/05/06 12:27:00 WARN NativeCodeLoader: Unable to load native-hadoop library for your platform... using builtin-java classes where applicable\n",
      "22/05/06 12:27:04 WARN Utils: Service 'SparkUI' could not bind on port 4040. Attempting port 4041.\n",
      "22/05/06 12:27:04 WARN Utils: Service 'SparkUI' could not bind on port 4041. Attempting port 4042.\n"
     ]
    }
   ],
   "source": [
    "#load pySpark modules \n",
    "from pyspark.ml.tuning import ParamGridBuilder, CrossValidator\n",
    "from pyspark.ml.evaluation import BinaryClassificationEvaluator\n",
    "from pyspark.ml.evaluation import RegressionEvaluator\n",
    "from pyspark.sql import functions as F\n",
    "from pyspark.sql import SparkSession\n",
    "from pyspark import SparkContext, SparkConf\n",
    "from pyspark.sql.types import *\n",
    "from pyspark.sql.functions import *\n",
    "import time\n",
    "spark = SparkSession.builder.getOrCreate()\n",
    "spark = SparkSession.builder \\\n",
    "    .master('local[*]') \\\n",
    "    .config(\"spark.driver.memory\", \"30g\") \\\n",
    "    .config('spark.executor.memory=30g')\\\n",
    "    .appName('final') \\\n",
    "    .getOrCreate()\n",
    "sc=spark.sparkContext"
   ]
  },
  {
   "cell_type": "code",
   "execution_count": 5,
   "id": "3aa17ef2",
   "metadata": {},
   "outputs": [],
   "source": [
    "#.config(\"spark.driver.memory\", \"15g\") \\"
   ]
  },
  {
   "cell_type": "code",
   "execution_count": 6,
   "id": "6c64dc2f",
   "metadata": {},
   "outputs": [
    {
     "name": "stderr",
     "output_type": "stream",
     "text": [
      "                                                                                \r"
     ]
    },
    {
     "name": "stdout",
     "output_type": "stream",
     "text": [
      "+----------+---------+-------+---------------+-------------+--------+--------+\n",
      "|DayofMonth|DayOfWeek|Carrier|OriginAirportID|DestAirportID|DepDelay|ArrDelay|\n",
      "+----------+---------+-------+---------------+-------------+--------+--------+\n",
      "|        19|        5|     DL|          11433|        13303|      -3|       1|\n",
      "|        19|        5|     DL|          14869|        12478|       0|      -8|\n",
      "|        19|        5|     DL|          14057|        14869|      -4|     -15|\n",
      "|        19|        5|     DL|          15016|        11433|      28|      24|\n",
      "|        19|        5|     DL|          11193|        12892|      -6|     -11|\n",
      "+----------+---------+-------+---------------+-------------+--------+--------+\n",
      "only showing top 5 rows\n",
      "\n",
      "+----------+-----------+-----+--------------------+\n",
      "|airport_id|       city|state|                name|\n",
      "+----------+-----------+-----+--------------------+\n",
      "|     10165|Adak Island|   AK|                Adak|\n",
      "|     10299|  Anchorage|   AK|Ted Stevens Ancho...|\n",
      "|     10304|      Aniak|   AK|       Aniak Airport|\n",
      "|     10754|     Barrow|   AK|Wiley Post/Will R...|\n",
      "|     10551|     Bethel|   AK|      Bethel Airport|\n",
      "+----------+-----------+-----+--------------------+\n",
      "only showing top 5 rows\n",
      "\n"
     ]
    }
   ],
   "source": [
    "#load flight data file into pySpark dataFrame format\n",
    "\n",
    "flight = spark.read.csv(\"flights.csv\", inferSchema=True, header=True)\n",
    "airports = spark.read.csv(\"airports.csv\", inferSchema=True, header=True)\n",
    "flight.show(5)\n",
    "airports.show(5)\n"
   ]
  },
  {
   "cell_type": "code",
   "execution_count": 7,
   "id": "19d18d81",
   "metadata": {},
   "outputs": [
    {
     "name": "stderr",
     "output_type": "stream",
     "text": [
      "[Stage 8:>                                                          (0 + 1) / 1]\r"
     ]
    },
    {
     "name": "stdout",
     "output_type": "stream",
     "text": [
      "+----------+---------+-------+---------------+-------------+--------+---------+\n",
      "|DayofMonth|DayOfWeek|Carrier|OriginAirportID|DestAirportID|DepDelay|trueLabel|\n",
      "+----------+---------+-------+---------------+-------------+--------+---------+\n",
      "|         6|        1|     WN|          10821|        10140|       1|        0|\n",
      "|         8|        1|     AA|          11298|        10140|       0|        0|\n",
      "|        15|        1|     WN|          14747|        10140|      -6|        0|\n",
      "|        27|        1|     AA|          11298|        10140|     113|        1|\n",
      "|         7|        2|     OO|          12266|        10140|      -3|        0|\n",
      "+----------+---------+-------+---------------+-------------+--------+---------+\n",
      "only showing top 5 rows\n",
      "\n"
     ]
    },
    {
     "name": "stderr",
     "output_type": "stream",
     "text": [
      "\r",
      "                                                                                \r"
     ]
    }
   ],
   "source": [
    "df_dis = flight.distinct()\n",
    "df_f = df_dis.select('DayofMonth','DayOfWeek','Carrier','OriginAirportID','DestAirportID','DepDelay',((col(\"ArrDelay\") > 15).cast(\"Int\").alias(\"label\")))\n",
    "df_f = df_f.withColumnRenamed(\"label\", \"trueLabel\")\n",
    "df_f.show(5)"
   ]
  },
  {
   "cell_type": "markdown",
   "id": "e64c63d9",
   "metadata": {},
   "source": [
    "### Define the Pipeline and split the data "
   ]
  },
  {
   "cell_type": "code",
   "execution_count": 25,
   "id": "0813bed9",
   "metadata": {},
   "outputs": [],
   "source": [
    "from pyspark.ml.feature import VectorAssembler, StringIndexer, VectorIndexer, MinMaxScaler\n",
    "strIdx = StringIndexer(inputCol = \"Carrier\", outputCol = \"CarrierIdx\")\n",
    "catVect = VectorAssembler(inputCols = [\"CarrierIdx\", \"DayofMonth\", \"DayOfWeek\", \"OriginAirportID\", \"DestAirportID\"], outputCol=\"catFeatures\")\n",
    "catIdx = VectorIndexer(inputCol = catVect.getOutputCol(), outputCol = \"idxCatFeatures\")\n",
    "numVect = VectorAssembler(inputCols = [\"DepDelay\"], outputCol=\"numFeatures\")\n",
    "minMax = MinMaxScaler(inputCol = numVect.getOutputCol(), outputCol=\"normFeatures\")\n",
    "featVect = VectorAssembler(inputCols=[\"idxCatFeatures\", \"normFeatures\"], outputCol=\"features\")\n",
    "label_stringIdx = StringIndexer(inputCol = 'trueLabel', outputCol = 'label')\n",
    "train, test = df_f.randomSplit([0.8, 0.2], seed = 2018)\n"
   ]
  },
  {
   "cell_type": "markdown",
   "id": "3bb21479",
   "metadata": {},
   "source": [
    "### build the GBTClassifier model"
   ]
  },
  {
   "cell_type": "code",
   "execution_count": 26,
   "id": "19653163",
   "metadata": {},
   "outputs": [
    {
     "name": "stderr",
     "output_type": "stream",
     "text": [
      "22/05/06 17:22:42 WARN MemoryStore: Not enough space to cache rdd_3338_1 in memory! (computed 18.4 MiB so far)\n",
      "22/05/06 17:22:42 WARN BlockManager: Persisting block rdd_3338_1 to disk instead.\n",
      "22/05/06 17:22:42 WARN MemoryStore: Not enough space to cache rdd_3338_2 in memory! (computed 18.4 MiB so far)\n",
      "22/05/06 17:22:42 WARN BlockManager: Persisting block rdd_3338_2 to disk instead.\n",
      "22/05/06 17:22:44 WARN MemoryStore: Not enough space to cache rdd_3338_0 in memory! (computed 43.6 MiB so far)\n",
      "22/05/06 17:22:44 WARN BlockManager: Persisting block rdd_3338_0 to disk instead.\n",
      "22/05/06 17:22:44 WARN MemoryStore: Not enough space to cache rdd_3338_3 in memory! (computed 43.6 MiB so far)\n",
      "22/05/06 17:22:44 WARN BlockManager: Persisting block rdd_3338_3 to disk instead.\n",
      "                                                                                \r"
     ]
    },
    {
     "name": "stdout",
     "output_type": "stream",
     "text": [
      "130.18226408958435\n"
     ]
    }
   ],
   "source": [
    "from pyspark.ml.classification import GBTClassifier\n",
    "from pyspark.ml import Pipeline\n",
    "# Train a GBT model.\n",
    "gbt = GBTClassifier(labelCol=\"label\", featuresCol=\"features\", maxIter=10)\n",
    "pipeline = Pipeline(stages=[strIdx, catVect, catIdx, numVect, minMax, featVect,label_stringIdx, gbt])\n",
    "# Fit the pipeline to training documents.\n",
    "t1 = time.time()\n",
    "gbtmodel = pipeline.fit(train)\n",
    "t2 = time.time()\n",
    "print(t2-t1)"
   ]
  },
  {
   "cell_type": "markdown",
   "id": "68011180",
   "metadata": {},
   "source": [
    "#### Make predictions on the test set"
   ]
  },
  {
   "cell_type": "code",
   "execution_count": 27,
   "id": "8a69c3e2",
   "metadata": {},
   "outputs": [
    {
     "name": "stderr",
     "output_type": "stream",
     "text": [
      "[Stage 2165:>                                                       (0 + 1) / 1]\r"
     ]
    },
    {
     "name": "stdout",
     "output_type": "stream",
     "text": [
      "+--------------------+-----+----------+---------+\n",
      "|            features|label|prediction|trueLabel|\n",
      "+--------------------+-----+----------+---------+\n",
      "|[10.0,1.0,0.0,103...|  0.0|       0.0|        0|\n",
      "|[10.0,1.0,0.0,104...|  0.0|       0.0|        0|\n",
      "|[10.0,1.0,0.0,107...|  0.0|       0.0|        0|\n",
      "|[10.0,1.0,0.0,107...|  1.0|       0.0|        1|\n",
      "|[10.0,1.0,0.0,107...|  0.0|       0.0|        0|\n",
      "+--------------------+-----+----------+---------+\n",
      "only showing top 5 rows\n",
      "\n"
     ]
    },
    {
     "name": "stderr",
     "output_type": "stream",
     "text": [
      "\r",
      "                                                                                \r"
     ]
    }
   ],
   "source": [
    "predictions = gbtmodel.transform(test)\n",
    "predictions_gbt = predictions.select(\"features\", 'label',\"prediction\", \"trueLabel\")\n",
    "predictions_gbt.show(5)\n",
    "#predictions.show(5)"
   ]
  },
  {
   "cell_type": "markdown",
   "id": "115edafe",
   "metadata": {},
   "source": [
    "#### Evaluate our  model."
   ]
  },
  {
   "cell_type": "code",
   "execution_count": 28,
   "id": "ecdde924",
   "metadata": {},
   "outputs": [
    {
     "name": "stderr",
     "output_type": "stream",
     "text": [
      "                                                                                \r"
     ]
    },
    {
     "name": "stdout",
     "output_type": "stream",
     "text": [
      "+---------+------------------+\n",
      "|   metric|             value|\n",
      "+---------+------------------+\n",
      "|       TP|           77085.0|\n",
      "|       FP|            9328.0|\n",
      "|       TN|          422127.0|\n",
      "|       FN|           30305.0|\n",
      "|Precision|0.8920532790205178|\n",
      "|   Recall|0.7178042648291275|\n",
      "|       F1|0.7954985216947106|\n",
      "+---------+------------------+\n",
      "\n"
     ]
    }
   ],
   "source": [
    "#Evaluating prediction results\n",
    "\n",
    "tp = float(predictions.filter(\"prediction == 1.0 AND label == 1\").count())\n",
    "fp = float(predictions.filter(\"prediction == 1.0 AND label == 0\").count())\n",
    "tn = float(predictions.filter(\"prediction == 0.0 AND label == 0\").count())\n",
    "fn = float(predictions.filter(\"prediction == 0.0 AND label == 1\").count())\n",
    "pr = tp / (tp + fp)\n",
    "re = tp / (tp + fn)\n",
    "metrics = spark.createDataFrame([\n",
    " (\"TP\", tp),\n",
    " (\"FP\", fp),\n",
    " (\"TN\", tn),\n",
    " (\"FN\", fn),\n",
    " (\"Precision\", pr),\n",
    " (\"Recall\", re),\n",
    " (\"F1\", 2*pr*re/(re+pr))],[\"metric\", \"value\"])\n",
    "metrics.show()"
   ]
  },
  {
   "cell_type": "code",
   "execution_count": 29,
   "id": "619b6ac2",
   "metadata": {},
   "outputs": [
    {
     "name": "stderr",
     "output_type": "stream",
     "text": [
      "[Stage 2194:>                                                       (0 + 4) / 4]\r"
     ]
    },
    {
     "name": "stdout",
     "output_type": "stream",
     "text": [
      "Test Area Under ROC 0.9276357628648623\n"
     ]
    },
    {
     "name": "stderr",
     "output_type": "stream",
     "text": [
      "\r",
      "                                                                                \r"
     ]
    }
   ],
   "source": [
    "#Evaluate our Logistic Regression model.\n",
    "from pyspark.ml.evaluation import BinaryClassificationEvaluator\n",
    "evaluator = BinaryClassificationEvaluator()\n",
    "print('Test Area Under ROC', evaluator.evaluate(predictions))"
   ]
  },
  {
   "cell_type": "code",
   "execution_count": 30,
   "id": "615acad9",
   "metadata": {},
   "outputs": [
    {
     "name": "stderr",
     "output_type": "stream",
     "text": [
      "                                                                                \r"
     ]
    },
    {
     "name": "stdout",
     "output_type": "stream",
     "text": [
      "accuracy =  0.9264482365058597\n"
     ]
    }
   ],
   "source": [
    "from sklearn import metrics\n",
    "actual =predictions.select('label').toPandas()\n",
    "predicted = predictions.select('prediction').toPandas()\n",
    "accuracy = metrics.accuracy_score(actual, predicted)\n",
    "print('accuracy = ', accuracy)"
   ]
  },
  {
   "cell_type": "code",
   "execution_count": 31,
   "id": "6cd82e7d",
   "metadata": {},
   "outputs": [
    {
     "name": "stderr",
     "output_type": "stream",
     "text": [
      "/var/folders/gw/yh0lqvkx31988_00fxgrp7680000gn/T/ipykernel_13955/3954963312.py:14: UserWarning: color is redundantly defined by the 'color' keyword argument and the fmt string \"k--\" (-> color='k'). The keyword argument will take precedence.\n",
      "  plt.plot([0,1], [0,1], 'k--', color='orange')\n"
     ]
    },
    {
     "data": {
      "image/png": "[encoded data removed]",
      "text/plain": [
       "<Figure size 432x288 with 1 Axes>"
      ]
     },
     "metadata": {
      "needs_background": "light"
     },
     "output_type": "display_data"
    }
   ],
   "source": [
    "import numpy as np\n",
    "import matplotlib.pyplot as plt\n",
    "pred_pd_full = predictions.select(['label', 'prediction', 'probability']).toPandas()\n",
    "pred_pd_full['probability'] = pred_pd_full['probability'].map(lambda x: list(x))\n",
    "pred_pd_full['encoded_label'] = pred_pd_full['label'].map(lambda x: np.eye(2)[int(x)])\n",
    "\n",
    "y_pred = np.array(pred_pd_full['probability'].tolist())\n",
    "y_true = np.array(pred_pd_full['encoded_label'].tolist())\n",
    "from sklearn.metrics import auc, roc_curve\n",
    "fpr, tpr, threshold = roc_curve(y_score=y_pred[:,0], y_true=y_true[:,0])\n",
    "auc = auc(fpr, tpr)\n",
    "\n",
    "\n",
    "plt.plot([0,1], [0,1], 'k--', color='orange')\n",
    "plt.plot(fpr, tpr, label='auc = {:.3f}'.format(auc))\n",
    "plt.xlabel('False positive rate')\n",
    "plt.ylabel('True positive rate')\n",
    "plt.title('ROC curve - DecisionTree')\n",
    "plt.legend(loc='lower right')\n",
    "plt.grid()\n",
    "plt.show()"
   ]
  },
  {
   "cell_type": "code",
   "execution_count": null,
   "id": "d63e9db3",
   "metadata": {},
   "outputs": [],
   "source": []
  },
  {
   "cell_type": "code",
   "execution_count": 32,
   "id": "26f3c16b",
   "metadata": {},
   "outputs": [],
   "source": [
    "train5, test5 = df_f.randomSplit([0.5, 0.5], seed = 2000)\n",
    "train6, test6 = df_f.randomSplit([0.5, 0.5], seed = 2001)\n",
    "train7, test7 = df_f.randomSplit([0.5, 0.5], seed = 2002)\n",
    "train9, test9 = df_f.randomSplit([0.5, 0.5], seed = 2003)"
   ]
  },
  {
   "cell_type": "code",
   "execution_count": 33,
   "id": "144db0a5",
   "metadata": {},
   "outputs": [
    {
     "name": "stderr",
     "output_type": "stream",
     "text": [
      "22/05/06 17:26:17 WARN MemoryStore: Not enough space to cache rdd_3728_2 in memory! (computed 18.4 MiB so far)\n",
      "22/05/06 17:26:17 WARN BlockManager: Persisting block rdd_3728_2 to disk instead.\n",
      "22/05/06 17:26:17 WARN MemoryStore: Not enough space to cache rdd_3728_1 in memory! (computed 18.4 MiB so far)\n",
      "22/05/06 17:26:17 WARN BlockManager: Persisting block rdd_3728_1 to disk instead.\n",
      "                                                                                \r"
     ]
    },
    {
     "name": "stdout",
     "output_type": "stream",
     "text": [
      "72.69633483886719\n"
     ]
    },
    {
     "name": "stderr",
     "output_type": "stream",
     "text": [
      "                                                                                \r"
     ]
    },
    {
     "name": "stdout",
     "output_type": "stream",
     "text": [
      "+---------+------------------+\n",
      "|   metric|             value|\n",
      "+---------+------------------+\n",
      "|       TP|          192677.0|\n",
      "|       FP|           22553.0|\n",
      "|       TN|         1056934.0|\n",
      "|       FN|           76081.0|\n",
      "|Precision|0.8952144217813501|\n",
      "|   Recall|0.7169163336533239|\n",
      "|       F1|0.7962056910501913|\n",
      "+---------+------------------+\n",
      "\n"
     ]
    },
    {
     "name": "stderr",
     "output_type": "stream",
     "text": [
      "[Stage 2425:>                                                       (0 + 4) / 4]\r"
     ]
    },
    {
     "name": "stdout",
     "output_type": "stream",
     "text": [
      "AUC =  0.9286380872415063\n"
     ]
    },
    {
     "name": "stderr",
     "output_type": "stream",
     "text": [
      "\r",
      "                                                                                \r"
     ]
    }
   ],
   "source": [
    "#train the model\n",
    "t1 = time.time()\n",
    "gbtmodel = pipeline.fit(train5)\n",
    "t2 = time.time()\n",
    "print(t2-t1)\n",
    "#predict the model\n",
    "predictions5 = gbtmodel.transform(test5)\n",
    "#evaluate the model\n",
    "tp = float(predictions5.filter(\"prediction == 1.0 AND label == 1\").count())\n",
    "fp = float(predictions5.filter(\"prediction == 1.0 AND label == 0\").count())\n",
    "tn = float(predictions5.filter(\"prediction == 0.0 AND label == 0\").count())\n",
    "fn = float(predictions5.filter(\"prediction == 0.0 AND label == 1\").count())\n",
    "pr = tp / (tp + fp)\n",
    "re = tp / (tp + fn)\n",
    "metrics = spark.createDataFrame([\n",
    " (\"TP\", tp),\n",
    " (\"FP\", fp),\n",
    " (\"TN\", tn),\n",
    " (\"FN\", fn),\n",
    " (\"Precision\", pr),\n",
    " (\"Recall\", re),\n",
    " (\"F1\", 2*pr*re/(re+pr))],[\"metric\", \"value\"])\n",
    "metrics.show()\n",
    "#evaluate AUC\n",
    "evaluator = BinaryClassificationEvaluator(labelCol=\"trueLabel\", rawPredictionCol=\"rawPrediction\", metricName=\"areaUnderROC\")\n",
    "print('AUC = ', evaluator.evaluate(predictions5))\n"
   ]
  },
  {
   "cell_type": "code",
   "execution_count": 34,
   "id": "d9079c94",
   "metadata": {},
   "outputs": [
    {
     "name": "stderr",
     "output_type": "stream",
     "text": [
      "22/05/06 17:28:27 WARN MemoryStore: Not enough space to cache rdd_4090_2 in memory! (computed 18.4 MiB so far)\n",
      "22/05/06 17:28:27 WARN BlockManager: Persisting block rdd_4090_2 to disk instead.\n",
      "22/05/06 17:28:27 WARN MemoryStore: Not enough space to cache rdd_4090_3 in memory! (computed 18.4 MiB so far)\n",
      "22/05/06 17:28:27 WARN BlockManager: Persisting block rdd_4090_3 to disk instead.\n",
      "                                                                                \r"
     ]
    },
    {
     "name": "stdout",
     "output_type": "stream",
     "text": [
      "73.42038178443909\n"
     ]
    },
    {
     "name": "stderr",
     "output_type": "stream",
     "text": [
      "                                                                                \r"
     ]
    },
    {
     "name": "stdout",
     "output_type": "stream",
     "text": [
      "+---------+------------------+\n",
      "|   metric|             value|\n",
      "+---------+------------------+\n",
      "|       TP|          193805.0|\n",
      "|       FP|           23243.0|\n",
      "|       TN|         1055629.0|\n",
      "|       FN|           75645.0|\n",
      "|Precision| 0.892913088349121|\n",
      "|   Recall|0.7192614585266284|\n",
      "|       F1|0.7967350328264454|\n",
      "+---------+------------------+\n",
      "\n"
     ]
    },
    {
     "name": "stderr",
     "output_type": "stream",
     "text": [
      "[Stage 2647:>                                                       (0 + 4) / 4]\r"
     ]
    },
    {
     "name": "stdout",
     "output_type": "stream",
     "text": [
      "AUC =  0.9282724793047255\n"
     ]
    },
    {
     "name": "stderr",
     "output_type": "stream",
     "text": [
      "\r",
      "[Stage 2647:==============>                                         (1 + 3) / 4]\r",
      "\r",
      "                                                                                \r"
     ]
    }
   ],
   "source": [
    "#train the model\n",
    "t1 = time.time()\n",
    "gbtmodel = pipeline.fit(train6)\n",
    "t2 = time.time()\n",
    "print(t2-t1)\n",
    "#predict the model\n",
    "predictions6 = gbtmodel.transform(test6)\n",
    "#evaluate the model\n",
    "tp = float(predictions6.filter(\"prediction == 1.0 AND label == 1\").count())\n",
    "fp = float(predictions6.filter(\"prediction == 1.0 AND label == 0\").count())\n",
    "tn = float(predictions6.filter(\"prediction == 0.0 AND label == 0\").count())\n",
    "fn = float(predictions6.filter(\"prediction == 0.0 AND label == 1\").count())\n",
    "pr = tp / (tp + fp)\n",
    "re = tp / (tp + fn)\n",
    "metrics = spark.createDataFrame([\n",
    " (\"TP\", tp),\n",
    " (\"FP\", fp),\n",
    " (\"TN\", tn),\n",
    " (\"FN\", fn),\n",
    " (\"Precision\", pr),\n",
    " (\"Recall\", re),\n",
    " (\"F1\", 2*pr*re/(re+pr))],[\"metric\", \"value\"])\n",
    "metrics.show()\n",
    "#evaluate AUC\n",
    "evaluator = BinaryClassificationEvaluator(labelCol=\"trueLabel\", rawPredictionCol=\"rawPrediction\", metricName=\"areaUnderROC\")\n",
    "print('AUC = ', evaluator.evaluate(predictions6))\n"
   ]
  },
  {
   "cell_type": "code",
   "execution_count": 35,
   "id": "2543640b",
   "metadata": {},
   "outputs": [
    {
     "name": "stderr",
     "output_type": "stream",
     "text": [
      "22/05/06 17:30:43 WARN MemoryStore: Not enough space to cache rdd_4452_3 in memory! (computed 18.4 MiB so far)\n",
      "22/05/06 17:30:43 WARN BlockManager: Persisting block rdd_4452_3 to disk instead.\n",
      "22/05/06 17:30:43 WARN MemoryStore: Not enough space to cache rdd_4452_2 in memory! (computed 18.4 MiB so far)\n",
      "22/05/06 17:30:43 WARN BlockManager: Persisting block rdd_4452_2 to disk instead.\n",
      "                                                                                \r"
     ]
    },
    {
     "name": "stdout",
     "output_type": "stream",
     "text": [
      "75.45653510093689\n"
     ]
    },
    {
     "name": "stderr",
     "output_type": "stream",
     "text": [
      "                                                                                \r"
     ]
    },
    {
     "name": "stdout",
     "output_type": "stream",
     "text": [
      "+---------+------------------+\n",
      "|   metric|             value|\n",
      "+---------+------------------+\n",
      "|       TP|          191153.0|\n",
      "|       FP|           20764.0|\n",
      "|       TN|         1058737.0|\n",
      "|       FN|           77500.0|\n",
      "|Precision|0.9020182429913598|\n",
      "|   Recall|0.7115237871901673|\n",
      "|       F1|0.7955261460349169|\n",
      "+---------+------------------+\n",
      "\n"
     ]
    },
    {
     "name": "stderr",
     "output_type": "stream",
     "text": [
      "                                                                                \r"
     ]
    },
    {
     "name": "stdout",
     "output_type": "stream",
     "text": [
      "AUC =  0.9287766712591689\n"
     ]
    }
   ],
   "source": [
    "#train the model\n",
    "t1 = time.time()\n",
    "gbtmodel = pipeline.fit(train7)\n",
    "t2 = time.time()\n",
    "print(t2-t1)\n",
    "#predict the model\n",
    "predictions7 = gbtmodel.transform(test7)\n",
    "#evaluate the model\n",
    "tp = float(predictions7.filter(\"prediction == 1.0 AND label == 1\").count())\n",
    "fp = float(predictions7.filter(\"prediction == 1.0 AND label == 0\").count())\n",
    "tn = float(predictions7.filter(\"prediction == 0.0 AND label == 0\").count())\n",
    "fn = float(predictions7.filter(\"prediction == 0.0 AND label == 1\").count())\n",
    "pr = tp / (tp + fp)\n",
    "re = tp / (tp + fn)\n",
    "metrics = spark.createDataFrame([\n",
    " (\"TP\", tp),\n",
    " (\"FP\", fp),\n",
    " (\"TN\", tn),\n",
    " (\"FN\", fn),\n",
    " (\"Precision\", pr),\n",
    " (\"Recall\", re),\n",
    " (\"F1\", 2*pr*re/(re+pr))],[\"metric\", \"value\"])\n",
    "metrics.show()\n",
    "#evaluate AUC\n",
    "evaluator = BinaryClassificationEvaluator(labelCol=\"trueLabel\", rawPredictionCol=\"rawPrediction\", metricName=\"areaUnderROC\")\n",
    "print('AUC = ', evaluator.evaluate(predictions7))"
   ]
  },
  {
   "cell_type": "code",
   "execution_count": 36,
   "id": "d4b08460",
   "metadata": {},
   "outputs": [
    {
     "name": "stderr",
     "output_type": "stream",
     "text": [
      "22/05/06 17:32:59 WARN MemoryStore: Not enough space to cache rdd_4814_1 in memory! (computed 18.4 MiB so far)\n",
      "22/05/06 17:32:59 WARN BlockManager: Persisting block rdd_4814_1 to disk instead.\n",
      "22/05/06 17:33:00 WARN MemoryStore: Not enough space to cache rdd_4814_2 in memory! (computed 18.4 MiB so far)\n",
      "22/05/06 17:33:00 WARN BlockManager: Persisting block rdd_4814_2 to disk instead.\n",
      "                                                                                \r"
     ]
    },
    {
     "name": "stdout",
     "output_type": "stream",
     "text": [
      "100.19956994056702\n"
     ]
    },
    {
     "name": "stderr",
     "output_type": "stream",
     "text": [
      "                                                                                \r"
     ]
    },
    {
     "name": "stdout",
     "output_type": "stream",
     "text": [
      "+---------+------------------+\n",
      "|   metric|             value|\n",
      "+---------+------------------+\n",
      "|       TP|          193268.0|\n",
      "|       FP|           23348.0|\n",
      "|       TN|         1056275.0|\n",
      "|       FN|           75296.0|\n",
      "|Precision|0.8922147948443329|\n",
      "|   Recall|0.7196347984093177|\n",
      "|       F1| 0.796685766107424|\n",
      "+---------+------------------+\n",
      "\n"
     ]
    },
    {
     "name": "stderr",
     "output_type": "stream",
     "text": [
      "                                                                                \r"
     ]
    },
    {
     "name": "stdout",
     "output_type": "stream",
     "text": [
      "AUC =  0.9289198163122284\n"
     ]
    }
   ],
   "source": [
    "#train the model\n",
    "t1 = time.time()\n",
    "gbtmodel = pipeline.fit(train9)\n",
    "t2 = time.time()\n",
    "print(t2-t1)\n",
    "#predict the model\n",
    "predictions9 = gbtmodel.transform(test9)\n",
    "#evaluate the model\n",
    "tp = float(predictions9.filter(\"prediction == 1.0 AND label == 1\").count())\n",
    "fp = float(predictions9.filter(\"prediction == 1.0 AND label == 0\").count())\n",
    "tn = float(predictions9.filter(\"prediction == 0.0 AND label == 0\").count())\n",
    "fn = float(predictions9.filter(\"prediction == 0.0 AND label == 1\").count())\n",
    "pr = tp / (tp + fp)\n",
    "re = tp / (tp + fn)\n",
    "metrics = spark.createDataFrame([\n",
    " (\"TP\", tp),\n",
    " (\"FP\", fp),\n",
    " (\"TN\", tn),\n",
    " (\"FN\", fn),\n",
    " (\"Precision\", pr),\n",
    " (\"Recall\", re),\n",
    " (\"F1\", 2*pr*re/(re+pr))],[\"metric\", \"value\"])\n",
    "metrics.show()\n",
    "#evaluate AUC\n",
    "evaluator = BinaryClassificationEvaluator(labelCol=\"trueLabel\", rawPredictionCol=\"rawPrediction\", metricName=\"areaUnderROC\")\n",
    "print('AUC = ', evaluator.evaluate(predictions9))"
   ]
  },
  {
   "cell_type": "code",
   "execution_count": 37,
   "id": "aa1e1141",
   "metadata": {},
   "outputs": [
    {
     "name": "stderr",
     "output_type": "stream",
     "text": [
      "                                                                                \r"
     ]
    },
    {
     "name": "stdout",
     "output_type": "stream",
     "text": [
      "accuracy =  0.9268426732530067\n"
     ]
    }
   ],
   "source": [
    "from sklearn import metrics\n",
    "actual5 =predictions5.select('label').toPandas()\n",
    "predicted5 = predictions5.select('prediction').toPandas()\n",
    "accuracy5 = metrics.accuracy_score(actual5, predicted5)\n",
    "print('accuracy = ', accuracy5)"
   ]
  },
  {
   "cell_type": "code",
   "execution_count": 38,
   "id": "85a23778",
   "metadata": {},
   "outputs": [
    {
     "name": "stderr",
     "output_type": "stream",
     "text": [
      "                                                                                \r"
     ]
    },
    {
     "name": "stdout",
     "output_type": "stream",
     "text": [
      "accuracy6 =  0.9266584688227293\n"
     ]
    }
   ],
   "source": [
    "#evaluate accuracy\n",
    "actual6 =predictions6.select('label').toPandas()\n",
    "predicted6 = predictions6.select('prediction').toPandas()\n",
    "accuracy6= metrics.accuracy_score(actual6, predicted6)\n",
    "print('accuracy6 = ', accuracy6)"
   ]
  },
  {
   "cell_type": "code",
   "execution_count": 39,
   "id": "bc915678",
   "metadata": {},
   "outputs": [
    {
     "name": "stderr",
     "output_type": "stream",
     "text": [
      "                                                                                \r"
     ]
    },
    {
     "name": "stdout",
     "output_type": "stream",
     "text": [
      "accuracy7 =  0.9271121845130452\n"
     ]
    }
   ],
   "source": [
    "#evaluate accuracy\n",
    "actual7 =predictions7.select('label').toPandas()\n",
    "predicted7 = predictions7.select('prediction').toPandas()\n",
    "accuracy7 = metrics.accuracy_score(actual7, predicted7)\n",
    "print('accuracy7 = ', accuracy7)"
   ]
  },
  {
   "cell_type": "code",
   "execution_count": 40,
   "id": "44ea4e48",
   "metadata": {},
   "outputs": [
    {
     "name": "stderr",
     "output_type": "stream",
     "text": [
      "                                                                                \r"
     ]
    },
    {
     "name": "stdout",
     "output_type": "stream",
     "text": [
      "accuracy9 =  0.9268321086021449\n"
     ]
    }
   ],
   "source": [
    "#evaluate accuracy\n",
    "actual9 =predictions9.select('label').toPandas()\n",
    "predicted9 = predictions9.select('prediction').toPandas()\n",
    "accuracy9 = metrics.accuracy_score(actual9, predicted9)\n",
    "print('accuracy9 = ', accuracy9)"
   ]
  },
  {
   "cell_type": "code",
   "execution_count": null,
   "id": "b97c6ecf",
   "metadata": {},
   "outputs": [],
   "source": [
    "#sc.stop()"
   ]
  },
  {
   "cell_type": "code",
   "execution_count": null,
   "id": "d8c6a786",
   "metadata": {},
   "outputs": [],
   "source": []
  }
 ],
 "metadata": {
  "kernelspec": {
   "display_name": "Python 3 (ipykernel)",
   "language": "python",
   "name": "python3"
  },
  "language_info": {
   "codemirror_mode": {
    "name": "ipython",
    "version": 3
   },
   "file_extension": ".py",
   "mimetype": "text/x-python",
   "name": "python",
   "nbconvert_exporter": "python",
   "pygments_lexer": "ipython3",
   "version": "3.9.7"
  }
 },
 "nbformat": 4,
 "nbformat_minor": 5
}
