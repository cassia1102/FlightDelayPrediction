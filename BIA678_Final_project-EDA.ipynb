{
 "cells": [
  {
   "cell_type": "code",
   "execution_count": 1,
   "id": "8d5e88f6",
   "metadata": {
    "scrolled": true
   },
   "outputs": [],
   "source": [
    "#pip install pyspark"
   ]
  },
  {
   "cell_type": "code",
   "execution_count": 2,
   "id": "3c16b382",
   "metadata": {},
   "outputs": [],
   "source": [
    "#conda install -c cyclus java-jdk"
   ]
  },
  {
   "cell_type": "code",
   "execution_count": 3,
   "id": "85c06f45",
   "metadata": {},
   "outputs": [],
   "source": [
    "#pip install py4j"
   ]
  },
  {
   "cell_type": "code",
   "execution_count": 4,
   "id": "21861970",
   "metadata": {},
   "outputs": [
    {
     "name": "stderr",
     "output_type": "stream",
     "text": [
      "Using Spark's default log4j profile: org/apache/spark/log4j-defaults.properties\n",
      "Setting default log level to \"WARN\".\n",
      "To adjust logging level use sc.setLogLevel(newLevel). For SparkR, use setLogLevel(newLevel).\n",
      "22/05/04 21:41:01 WARN NativeCodeLoader: Unable to load native-hadoop library for your platform... using builtin-java classes where applicable\n"
     ]
    }
   ],
   "source": [
    "#load pySpark modules \n",
    "from pyspark.ml.tuning import ParamGridBuilder, CrossValidator\n",
    "from pyspark.ml.evaluation import BinaryClassificationEvaluator\n",
    "from pyspark.ml.evaluation import RegressionEvaluator\n",
    "from pyspark.sql import functions as F\n",
    "from pyspark.sql import SparkSession\n",
    "from pyspark import SparkContext, SparkConf\n",
    "from pyspark.sql.types import *\n",
    "from pyspark.sql.functions import *\n",
    "spark = SparkSession.builder.getOrCreate()\n",
    "spark = SparkSession.builder \\\n",
    "    .master('local[*]') \\\n",
    "    .config(\"spark.driver.memory\", \"30g\") \\\n",
    "    .config('spark.executor.memory=30g')\\\n",
    "    .appName('final') \\\n",
    "    .getOrCreate()\n",
    "sc=spark.sparkContext"
   ]
  },
  {
   "cell_type": "code",
   "execution_count": 5,
   "id": "6d678dba",
   "metadata": {},
   "outputs": [],
   "source": [
    "#.config(\"spark.driver.memory\", \"15g\") \\"
   ]
  },
  {
   "cell_type": "code",
   "execution_count": 6,
   "id": "6c64dc2f",
   "metadata": {},
   "outputs": [
    {
     "name": "stderr",
     "output_type": "stream",
     "text": [
      "                                                                                \r"
     ]
    },
    {
     "name": "stdout",
     "output_type": "stream",
     "text": [
      "+----------+---------+-------+---------------+-------------+--------+--------+\n",
      "|DayofMonth|DayOfWeek|Carrier|OriginAirportID|DestAirportID|DepDelay|ArrDelay|\n",
      "+----------+---------+-------+---------------+-------------+--------+--------+\n",
      "|        19|        5|     DL|          11433|        13303|      -3|       1|\n",
      "|        19|        5|     DL|          14869|        12478|       0|      -8|\n",
      "|        19|        5|     DL|          14057|        14869|      -4|     -15|\n",
      "|        19|        5|     DL|          15016|        11433|      28|      24|\n",
      "|        19|        5|     DL|          11193|        12892|      -6|     -11|\n",
      "+----------+---------+-------+---------------+-------------+--------+--------+\n",
      "only showing top 5 rows\n",
      "\n",
      "+----------+-----------+-----+--------------------+\n",
      "|airport_id|       city|state|                name|\n",
      "+----------+-----------+-----+--------------------+\n",
      "|     10165|Adak Island|   AK|                Adak|\n",
      "|     10299|  Anchorage|   AK|Ted Stevens Ancho...|\n",
      "|     10304|      Aniak|   AK|       Aniak Airport|\n",
      "|     10754|     Barrow|   AK|Wiley Post/Will R...|\n",
      "|     10551|     Bethel|   AK|      Bethel Airport|\n",
      "+----------+-----------+-----+--------------------+\n",
      "only showing top 5 rows\n",
      "\n"
     ]
    }
   ],
   "source": [
    "#load flight data file into pySpark dataFrame format\n",
    "\n",
    "flight = spark.read.csv(\"flights.csv\", inferSchema=True, header=True)\n",
    "airports = spark.read.csv(\"airports.csv\", inferSchema=True, header=True)\n",
    "flight.show(5)\n",
    "airports.show(5)\n"
   ]
  },
  {
   "cell_type": "code",
   "execution_count": 7,
   "id": "a733272c",
   "metadata": {},
   "outputs": [
    {
     "name": "stdout",
     "output_type": "stream",
     "text": [
      "root\n",
      " |-- DayofMonth: integer (nullable = true)\n",
      " |-- DayOfWeek: integer (nullable = true)\n",
      " |-- Carrier: string (nullable = true)\n",
      " |-- OriginAirportID: integer (nullable = true)\n",
      " |-- DestAirportID: integer (nullable = true)\n",
      " |-- DepDelay: integer (nullable = true)\n",
      " |-- ArrDelay: integer (nullable = true)\n",
      "\n"
     ]
    }
   ],
   "source": [
    "flight.printSchema()"
   ]
  },
  {
   "cell_type": "code",
   "execution_count": 8,
   "id": "70fc9b2e",
   "metadata": {},
   "outputs": [],
   "source": [
    "#load airports data file into pySpark dataFrame format\n",
    "\n"
   ]
  },
  {
   "cell_type": "code",
   "execution_count": 9,
   "id": "fcfd86ed",
   "metadata": {},
   "outputs": [
    {
     "name": "stdout",
     "output_type": "stream",
     "text": [
      "+----------+---------+-------+---------------+-------------+--------+--------+--------------+-----+--------------------+\n",
      "|DayofMonth|DayOfWeek|Carrier|OriginAirportID|DestAirportID|DepDelay|ArrDelay|          city|state|                name|\n",
      "+----------+---------+-------+---------------+-------------+--------+--------+--------------+-----+--------------------+\n",
      "|        19|        5|     DL|          11433|        13303|      -3|       1|       Detroit|   MI|Detroit Metro Way...|\n",
      "|        19|        5|     DL|          14869|        12478|       0|      -8|Salt Lake City|   UT|Salt Lake City In...|\n",
      "|        19|        5|     DL|          14057|        14869|      -4|     -15|      Portland|   OR|Portland Internat...|\n",
      "|        19|        5|     DL|          15016|        11433|      28|      24|     St. Louis|   MO|Lambert-St. Louis...|\n",
      "|        19|        5|     DL|          11193|        12892|      -6|     -11|    Cincinnati|   OH|Cincinnati/Northe...|\n",
      "+----------+---------+-------+---------------+-------------+--------+--------+--------------+-----+--------------------+\n",
      "only showing top 5 rows\n",
      "\n"
     ]
    }
   ],
   "source": [
    "from pyspark.sql.functions import monotonically_increasing_id, row_number\n",
    "from pyspark.sql import Window\n",
    "#f = flight.withColumn(\"row_idx\", row_number().over(Window.orderBy(monotonically_increasing_id())))\n",
    "#a = airports.withColumn(\"row_idx\", row_number().over(Window.orderBy(monotonically_increasing_id())))\n",
    "\n",
    "data = flight.join(airports, flight.OriginAirportID == airports.airport_id).drop('airport_id')\n",
    "data.show(5)"
   ]
  },
  {
   "cell_type": "code",
   "execution_count": 10,
   "id": "5ea04442",
   "metadata": {},
   "outputs": [
    {
     "name": "stdout",
     "output_type": "stream",
     "text": [
      "+----------+---------+-------+---------------+-------------+--------+--------+--------------+-----------+--------------------+\n",
      "|DayofMonth|DayOfWeek|Carrier|OriginAirportID|DestAirportID|DepDelay|ArrDelay|    Origincity|Originstate|       OriginAirport|\n",
      "+----------+---------+-------+---------------+-------------+--------+--------+--------------+-----------+--------------------+\n",
      "|        19|        5|     DL|          11433|        13303|      -3|       1|       Detroit|         MI|Detroit Metro Way...|\n",
      "|        19|        5|     DL|          14869|        12478|       0|      -8|Salt Lake City|         UT|Salt Lake City In...|\n",
      "|        19|        5|     DL|          14057|        14869|      -4|     -15|      Portland|         OR|Portland Internat...|\n",
      "|        19|        5|     DL|          15016|        11433|      28|      24|     St. Louis|         MO|Lambert-St. Louis...|\n",
      "|        19|        5|     DL|          11193|        12892|      -6|     -11|    Cincinnati|         OH|Cincinnati/Northe...|\n",
      "+----------+---------+-------+---------------+-------------+--------+--------+--------------+-----------+--------------------+\n",
      "only showing top 5 rows\n",
      "\n"
     ]
    }
   ],
   "source": [
    "data  = data.withColumnRenamed('name', 'OriginAirport').withColumnRenamed('city', 'Origincity').withColumnRenamed('state', 'Originstate')\n",
    "data.show(5)"
   ]
  },
  {
   "cell_type": "code",
   "execution_count": 11,
   "id": "b50be70c",
   "metadata": {},
   "outputs": [],
   "source": [
    "name = airports.withColumnRenamed('name', 'DestAirport').withColumnRenamed('city', 'Destcity').withColumnRenamed('state', 'Deststate')"
   ]
  },
  {
   "cell_type": "code",
   "execution_count": 12,
   "id": "67cb48fa",
   "metadata": {},
   "outputs": [
    {
     "name": "stdout",
     "output_type": "stream",
     "text": [
      "+----------+---------+-------+---------------+-------------+--------+--------+--------------+-----------+--------------------+--------------+---------+--------------------+\n",
      "|DayofMonth|DayOfWeek|Carrier|OriginAirportID|DestAirportID|DepDelay|ArrDelay|    Origincity|Originstate|       OriginAirport|      Destcity|Deststate|         DestAirport|\n",
      "+----------+---------+-------+---------------+-------------+--------+--------+--------------+-----------+--------------------+--------------+---------+--------------------+\n",
      "|        19|        5|     DL|          11433|        13303|      -3|       1|       Detroit|         MI|Detroit Metro Way...|         Miami|       FL| Miami International|\n",
      "|        19|        5|     DL|          14869|        12478|       0|      -8|Salt Lake City|         UT|Salt Lake City In...|      New York|       NY|John F. Kennedy I...|\n",
      "|        19|        5|     DL|          14057|        14869|      -4|     -15|      Portland|         OR|Portland Internat...|Salt Lake City|       UT|Salt Lake City In...|\n",
      "|        19|        5|     DL|          15016|        11433|      28|      24|     St. Louis|         MO|Lambert-St. Louis...|       Detroit|       MI|Detroit Metro Way...|\n",
      "|        19|        5|     DL|          11193|        12892|      -6|     -11|    Cincinnati|         OH|Cincinnati/Northe...|   Los Angeles|       CA|Los Angeles Inter...|\n",
      "+----------+---------+-------+---------------+-------------+--------+--------+--------------+-----------+--------------------+--------------+---------+--------------------+\n",
      "only showing top 5 rows\n",
      "\n"
     ]
    }
   ],
   "source": [
    "df = data.join(name, data.DestAirportID == name.airport_id).drop('airport_id')\n",
    "df.show(5)"
   ]
  },
  {
   "cell_type": "raw",
   "id": "e0aa72de",
   "metadata": {},
   "source": [
    "# save dataframe to a single csv file \n",
    "df.write.csv('all_data.csv')"
   ]
  },
  {
   "cell_type": "code",
   "execution_count": 13,
   "id": "4969269f",
   "metadata": {},
   "outputs": [
    {
     "name": "stderr",
     "output_type": "stream",
     "text": [
      "[Stage 15:==============>                                           (1 + 3) / 4]\r"
     ]
    },
    {
     "name": "stdout",
     "output_type": "stream",
     "text": [
      "+--------------+-----+\n",
      "|    Origincity|count|\n",
      "+--------------+-----+\n",
      "|       Phoenix|89720|\n",
      "|         Omaha|13487|\n",
      "|Raleigh/Durham|28301|\n",
      "|     Anchorage| 7700|\n",
      "|        Dallas|19062|\n",
      "+--------------+-----+\n",
      "only showing top 5 rows\n",
      "\n"
     ]
    },
    {
     "name": "stderr",
     "output_type": "stream",
     "text": [
      "\r",
      "[Stage 15:===========================================>              (3 + 1) / 4]\r",
      "\r",
      "                                                                                \r"
     ]
    }
   ],
   "source": [
    "Origincity_count = df.groupby('Origincity').count()\n",
    "Origincity_count.show(5)"
   ]
  },
  {
   "cell_type": "code",
   "execution_count": 14,
   "id": "bb5787c2",
   "metadata": {},
   "outputs": [
    {
     "name": "stderr",
     "output_type": "stream",
     "text": [
      "[Stage 19:==============>                                           (1 + 3) / 4]\r"
     ]
    },
    {
     "name": "stdout",
     "output_type": "stream",
     "text": [
      "+---------------+-----+\n",
      "|OriginAirportID|count|\n",
      "+---------------+-----+\n",
      "|          14570|10344|\n",
      "|          12264|37429|\n",
      "|          14771|84276|\n",
      "|          11057|76465|\n",
      "|          13830|11346|\n",
      "|          12191|28963|\n",
      "|          10529|13042|\n",
      "|          11259|19062|\n",
      "|          10800|14170|\n",
      "|          14831|24310|\n",
      "|          12889|77878|\n",
      "|          14730|10915|\n",
      "|          13303|41948|\n",
      "|          10140|17542|\n",
      "|          13342|21002|\n",
      "|          11278|43107|\n",
      "|          15304|35149|\n",
      "|          10792|14797|\n",
      "|          14524|11485|\n",
      "|          10423|26982|\n",
      "+---------------+-----+\n",
      "only showing top 20 rows\n",
      "\n"
     ]
    },
    {
     "name": "stderr",
     "output_type": "stream",
     "text": [
      "\r",
      "                                                                                \r"
     ]
    }
   ],
   "source": [
    "OriginAirportID_count = df.groupby('OriginAirportID').count()\n",
    "OriginAirportID_count.show()"
   ]
  },
  {
   "cell_type": "code",
   "execution_count": 15,
   "id": "c3750d05",
   "metadata": {},
   "outputs": [
    {
     "name": "stderr",
     "output_type": "stream",
     "text": [
      "\r",
      "[Stage 23:>                                                         (0 + 4) / 4]\r"
     ]
    },
    {
     "name": "stdout",
     "output_type": "stream",
     "text": [
      "+-------+------+\n",
      "|Carrier| count|\n",
      "+-------+------+\n",
      "|     UA|286418|\n",
      "|     AA|289855|\n",
      "|     EV|157928|\n",
      "|     B6|121906|\n",
      "|     DL|381657|\n",
      "|     OO|160164|\n",
      "|     F9| 35738|\n",
      "|     YV| 52821|\n",
      "|     US|233321|\n",
      "|     MQ|113212|\n",
      "|     HA| 17432|\n",
      "|     AS| 68555|\n",
      "|     FL| 92702|\n",
      "|     VX| 34739|\n",
      "|     WN|575739|\n",
      "|     9E| 80031|\n",
      "+-------+------+\n",
      "\n"
     ]
    },
    {
     "name": "stderr",
     "output_type": "stream",
     "text": [
      "\r",
      "[Stage 23:==============>                                           (1 + 3) / 4]\r",
      "\r",
      "                                                                                \r"
     ]
    }
   ],
   "source": [
    "Carrier_count = df.groupby('Carrier').count()\n",
    "Carrier_count.show()"
   ]
  },
  {
   "cell_type": "code",
   "execution_count": 16,
   "id": "9d24d057",
   "metadata": {},
   "outputs": [
    {
     "name": "stderr",
     "output_type": "stream",
     "text": [
      "                                                                                \r"
     ]
    },
    {
     "name": "stdout",
     "output_type": "stream",
     "text": [
      "Data All 2702218\n"
     ]
    },
    {
     "name": "stderr",
     "output_type": "stream",
     "text": [
      "                                                                                \r"
     ]
    },
    {
     "name": "stdout",
     "output_type": "stream",
     "text": [
      "Data Distinct 2696657\n"
     ]
    },
    {
     "name": "stderr",
     "output_type": "stream",
     "text": [
      "[Stage 46:>                                                         (0 + 4) / 4]\r"
     ]
    },
    {
     "name": "stdout",
     "output_type": "stream",
     "text": [
      "Data Duplicate 5561\n"
     ]
    },
    {
     "name": "stderr",
     "output_type": "stream",
     "text": [
      "\r",
      "                                                                                \r"
     ]
    }
   ],
   "source": [
    "#Deal with Duplicate\n",
    "print(\"Data All\",df.count())\n",
    "print(\"Data Distinct\", df.dropDuplicates().count())\n",
    "print(\"Data Duplicate\", df.count()-df.dropDuplicates().count())"
   ]
  },
  {
   "cell_type": "code",
   "execution_count": 17,
   "id": "97f8b2b6",
   "metadata": {},
   "outputs": [
    {
     "name": "stdout",
     "output_type": "stream",
     "text": [
      "Data All 365\n"
     ]
    }
   ],
   "source": [
    "print(\"Data All\",airports.count())"
   ]
  },
  {
   "cell_type": "code",
   "execution_count": 18,
   "id": "e276da5c",
   "metadata": {},
   "outputs": [
    {
     "name": "stderr",
     "output_type": "stream",
     "text": [
      "[Stage 62:>                                                         (0 + 4) / 4]\r"
     ]
    },
    {
     "name": "stdout",
     "output_type": "stream",
     "text": [
      "Missing Value: 5561\n"
     ]
    },
    {
     "name": "stderr",
     "output_type": "stream",
     "text": [
      "\r",
      "[Stage 62:==============>                                           (1 + 3) / 4]\r",
      "\r",
      "                                                                                \r"
     ]
    }
   ],
   "source": [
    "#Deal with missing value\n",
    "flightnomissingvalue=df.dropDuplicates().dropna(how='any').count()\n",
    "print(\"Missing Value:\",df.count()-flightnomissingvalue)"
   ]
  },
  {
   "cell_type": "code",
   "execution_count": 19,
   "id": "a5392b1c",
   "metadata": {},
   "outputs": [],
   "source": [
    "df_dis = df.distinct()"
   ]
  },
  {
   "cell_type": "code",
   "execution_count": 20,
   "id": "ee710b21",
   "metadata": {},
   "outputs": [
    {
     "name": "stderr",
     "output_type": "stream",
     "text": [
      "[Stage 69:>                                                         (0 + 4) / 4]\r"
     ]
    },
    {
     "name": "stdout",
     "output_type": "stream",
     "text": [
      "+-------+------------------+-----------------+\n",
      "|summary|          DepDelay|         ArrDelay|\n",
      "+-------+------------------+-----------------+\n",
      "|  count|           2696657|          2696657|\n",
      "|   mean|10.532424034647343|6.668734659246615|\n",
      "| stddev|36.063715485293585| 38.5861239565741|\n",
      "|    min|               -63|              -94|\n",
      "|    max|              1863|             1845|\n",
      "+-------+------------------+-----------------+\n",
      "\n"
     ]
    },
    {
     "name": "stderr",
     "output_type": "stream",
     "text": [
      "\r",
      "                                                                                \r"
     ]
    }
   ],
   "source": [
    "df_dis.describe('DepDelay','ArrDelay').show()"
   ]
  },
  {
   "cell_type": "raw",
   "id": "a52c0440",
   "metadata": {},
   "source": [
    "df.info(verbose=True) "
   ]
  },
  {
   "cell_type": "raw",
   "id": "0276a0a9",
   "metadata": {},
   "source": [
    "import pandas as pd\n",
    "flight = flight.toPandas()\n",
    "#print('Dataframe dimensions:', df.shape)\n",
    "#____________________________________________________________\n",
    "# gives some infos on columns types and number of null values\n",
    "tab_info=pd.DataFrame(flight.dtypes).T.rename(index={0:'column type'})\n",
    "tab_info=tab_info.append(pd.DataFrame(flight.isnull().sum()).T.rename(index={0:'null values (nb)'}))\n",
    "tab_info=tab_info.append(pd.DataFrame(flight.isnull().sum()/flight.shape[0]*100)\n",
    "                         .T.rename(index={0:'null values (%)'}))\n",
    "tab_info"
   ]
  },
  {
   "cell_type": "code",
   "execution_count": 21,
   "id": "19d18d81",
   "metadata": {},
   "outputs": [
    {
     "name": "stderr",
     "output_type": "stream",
     "text": [
      "[Stage 75:==============>                                           (1 + 3) / 4]\r"
     ]
    },
    {
     "name": "stdout",
     "output_type": "stream",
     "text": [
      "+----------+---------+-------+---------------+-------------+--------+-----+\n",
      "|DayofMonth|DayOfWeek|Carrier|OriginAirportID|DestAirportID|DepDelay|label|\n",
      "+----------+---------+-------+---------------+-------------+--------+-----+\n",
      "|         1|        1|     F9|          11292|        10140|      -2|    0|\n",
      "|         1|        1|     WN|          14107|        10140|       2|    0|\n",
      "|         8|        1|     WN|          14747|        10140|      13|    0|\n",
      "|        13|        1|     OO|          12266|        10140|      -6|    0|\n",
      "|        13|        1|     WN|          12889|        10140|      -5|    0|\n",
      "+----------+---------+-------+---------------+-------------+--------+-----+\n",
      "only showing top 5 rows\n",
      "\n"
     ]
    },
    {
     "name": "stderr",
     "output_type": "stream",
     "text": [
      "\r",
      "                                                                                \r"
     ]
    }
   ],
   "source": [
    "df_f = df_dis.select('DayofMonth','DayOfWeek','Carrier','OriginAirportID','DestAirportID','DepDelay',((col(\"ArrDelay\") > 15).cast(\"Int\").alias(\"label\")))\n",
    "\n",
    "df_f.show(5)"
   ]
  },
  {
   "cell_type": "code",
   "execution_count": 22,
   "id": "6417674e",
   "metadata": {},
   "outputs": [
    {
     "name": "stdout",
     "output_type": "stream",
     "text": [
      "root\n",
      " |-- DayofMonth: integer (nullable = true)\n",
      " |-- DayOfWeek: integer (nullable = true)\n",
      " |-- Carrier: string (nullable = true)\n",
      " |-- OriginAirportID: integer (nullable = true)\n",
      " |-- DestAirportID: integer (nullable = true)\n",
      " |-- DepDelay: integer (nullable = true)\n",
      " |-- label: integer (nullable = true)\n",
      "\n"
     ]
    }
   ],
   "source": [
    "df_f.printSchema()"
   ]
  },
  {
   "cell_type": "code",
   "execution_count": 23,
   "id": "a507c93b",
   "metadata": {},
   "outputs": [
    {
     "name": "stderr",
     "output_type": "stream",
     "text": [
      "                                                                                \r"
     ]
    },
    {
     "data": {
      "text/html": [
       "<div>\n",
       "<style scoped>\n",
       "    .dataframe tbody tr th:only-of-type {\n",
       "        vertical-align: middle;\n",
       "    }\n",
       "\n",
       "    .dataframe tbody tr th {\n",
       "        vertical-align: top;\n",
       "    }\n",
       "\n",
       "    .dataframe thead th {\n",
       "        text-align: right;\n",
       "    }\n",
       "</style>\n",
       "<table border=\"1\" class=\"dataframe\">\n",
       "  <thead>\n",
       "    <tr style=\"text-align: right;\">\n",
       "      <th></th>\n",
       "      <th>0</th>\n",
       "      <th>1</th>\n",
       "      <th>2</th>\n",
       "      <th>3</th>\n",
       "      <th>4</th>\n",
       "    </tr>\n",
       "  </thead>\n",
       "  <tbody>\n",
       "    <tr>\n",
       "      <th>summary</th>\n",
       "      <td>count</td>\n",
       "      <td>mean</td>\n",
       "      <td>stddev</td>\n",
       "      <td>min</td>\n",
       "      <td>max</td>\n",
       "    </tr>\n",
       "    <tr>\n",
       "      <th>DayofMonth</th>\n",
       "      <td>2696657</td>\n",
       "      <td>15.799071591233146</td>\n",
       "      <td>8.801337925743184</td>\n",
       "      <td>1</td>\n",
       "      <td>31</td>\n",
       "    </tr>\n",
       "    <tr>\n",
       "      <th>DayOfWeek</th>\n",
       "      <td>2696657</td>\n",
       "      <td>3.9004070595555906</td>\n",
       "      <td>1.9864668165468373</td>\n",
       "      <td>1</td>\n",
       "      <td>7</td>\n",
       "    </tr>\n",
       "    <tr>\n",
       "      <th>OriginAirportID</th>\n",
       "      <td>2696657</td>\n",
       "      <td>12742.454167882679</td>\n",
       "      <td>1502.0468528616916</td>\n",
       "      <td>10140</td>\n",
       "      <td>15376</td>\n",
       "    </tr>\n",
       "    <tr>\n",
       "      <th>DestAirportID</th>\n",
       "      <td>2696657</td>\n",
       "      <td>12742.858206290233</td>\n",
       "      <td>1502.0033937097596</td>\n",
       "      <td>10140</td>\n",
       "      <td>15376</td>\n",
       "    </tr>\n",
       "    <tr>\n",
       "      <th>DepDelay</th>\n",
       "      <td>2696657</td>\n",
       "      <td>10.532424034647343</td>\n",
       "      <td>36.063715485293585</td>\n",
       "      <td>-63</td>\n",
       "      <td>1863</td>\n",
       "    </tr>\n",
       "    <tr>\n",
       "      <th>label</th>\n",
       "      <td>2696657</td>\n",
       "      <td>0.1995085025644715</td>\n",
       "      <td>0.39963097876947745</td>\n",
       "      <td>0</td>\n",
       "      <td>1</td>\n",
       "    </tr>\n",
       "  </tbody>\n",
       "</table>\n",
       "</div>"
      ],
      "text/plain": [
       "                       0                   1                    2      3  \\\n",
       "summary            count                mean               stddev    min   \n",
       "DayofMonth       2696657  15.799071591233146    8.801337925743184      1   \n",
       "DayOfWeek        2696657  3.9004070595555906   1.9864668165468373      1   \n",
       "OriginAirportID  2696657  12742.454167882679   1502.0468528616916  10140   \n",
       "DestAirportID    2696657  12742.858206290233   1502.0033937097596  10140   \n",
       "DepDelay         2696657  10.532424034647343   36.063715485293585    -63   \n",
       "label            2696657  0.1995085025644715  0.39963097876947745      0   \n",
       "\n",
       "                     4  \n",
       "summary            max  \n",
       "DayofMonth          31  \n",
       "DayOfWeek            7  \n",
       "OriginAirportID  15376  \n",
       "DestAirportID    15376  \n",
       "DepDelay          1863  \n",
       "label                1  "
      ]
     },
     "execution_count": 23,
     "metadata": {},
     "output_type": "execute_result"
    }
   ],
   "source": [
    "numeric_features = [t[0] for t in df_f.dtypes if t[1] == 'int']\n",
    "df_f.select(numeric_features).describe().toPandas().transpose()"
   ]
  },
  {
   "cell_type": "code",
   "execution_count": 24,
   "id": "ba3bca87",
   "metadata": {},
   "outputs": [
    {
     "name": "stderr",
     "output_type": "stream",
     "text": [
      "                                                                                \r"
     ]
    },
    {
     "data": {
      "image/png": "[encoded data removed]",
      "text/plain": [
       "<Figure size 576x576 with 36 Axes>"
      ]
     },
     "metadata": {
      "needs_background": "light"
     },
     "output_type": "display_data"
    }
   ],
   "source": [
    "import pandas as pd\n",
    "from pyspark.ml.stat import Correlation\n",
    "from pyspark.mllib.stat import Statistics\n",
    "import matplotlib.pyplot as plt\n",
    "numeric_data = df_f.select(numeric_features).toPandas()\n",
    "axs = pd.plotting.scatter_matrix(numeric_data, figsize=(8, 8));\n",
    "n = len(numeric_data.columns)\n",
    "for i in range(n):\n",
    "    v = axs[i, 0]\n",
    "    v.yaxis.label.set_rotation(0)\n",
    "    v.yaxis.label.set_ha('right')\n",
    "    v.set_yticks(())\n",
    "    h = axs[n-1, i]\n",
    "    h.xaxis.label.set_rotation(90)\n",
    "    h.set_xticks(())"
   ]
  },
  {
   "cell_type": "markdown",
   "id": "edf1af28",
   "metadata": {},
   "source": [
    "### Target Variable Distribution"
   ]
  },
  {
   "cell_type": "code",
   "execution_count": 25,
   "id": "dfd72e7b",
   "metadata": {},
   "outputs": [
    {
     "name": "stderr",
     "output_type": "stream",
     "text": [
      "22/05/04 21:48:50 WARN RowBasedKeyValueBatch: Calling spill() on RowBasedKeyValueBatch. Will not spill but return 0.\n",
      "22/05/04 21:48:50 WARN RowBasedKeyValueBatch: Calling spill() on RowBasedKeyValueBatch. Will not spill but return 0.\n",
      "22/05/04 21:48:50 WARN RowBasedKeyValueBatch: Calling spill() on RowBasedKeyValueBatch. Will not spill but return 0.\n",
      "22/05/04 21:48:50 WARN RowBasedKeyValueBatch: Calling spill() on RowBasedKeyValueBatch. Will not spill but return 0.\n",
      "22/05/04 21:48:50 WARN RowBasedKeyValueBatch: Calling spill() on RowBasedKeyValueBatch. Will not spill but return 0.\n",
      "22/05/04 21:48:50 WARN RowBasedKeyValueBatch: Calling spill() on RowBasedKeyValueBatch. Will not spill but return 0.\n",
      "22/05/04 21:48:50 WARN RowBasedKeyValueBatch: Calling spill() on RowBasedKeyValueBatch. Will not spill but return 0.\n",
      "22/05/04 21:48:50 WARN RowBasedKeyValueBatch: Calling spill() on RowBasedKeyValueBatch. Will not spill but return 0.\n",
      "22/05/04 21:48:52 WARN RowBasedKeyValueBatch: Calling spill() on RowBasedKeyValueBatch. Will not spill but return 0.\n",
      "22/05/04 21:48:52 WARN RowBasedKeyValueBatch: Calling spill() on RowBasedKeyValueBatch. Will not spill but return 0.\n",
      "22/05/04 21:48:52 WARN RowBasedKeyValueBatch: Calling spill() on RowBasedKeyValueBatch. Will not spill but return 0.\n",
      "22/05/04 21:48:52 WARN RowBasedKeyValueBatch: Calling spill() on RowBasedKeyValueBatch. Will not spill but return 0.\n",
      "22/05/04 21:48:52 WARN RowBasedKeyValueBatch: Calling spill() on RowBasedKeyValueBatch. Will not spill but return 0.\n",
      "22/05/04 21:48:52 WARN RowBasedKeyValueBatch: Calling spill() on RowBasedKeyValueBatch. Will not spill but return 0.\n",
      "22/05/04 21:48:52 WARN RowBasedKeyValueBatch: Calling spill() on RowBasedKeyValueBatch. Will not spill but return 0.\n",
      "22/05/04 21:48:52 WARN RowBasedKeyValueBatch: Calling spill() on RowBasedKeyValueBatch. Will not spill but return 0.\n"
     ]
    },
    {
     "name": "stdout",
     "output_type": "stream",
     "text": [
      "+-----+-------+\n",
      "|label|  count|\n",
      "+-----+-------+\n",
      "|    1| 538006|\n",
      "|    0|2158651|\n",
      "+-----+-------+\n",
      "\n"
     ]
    },
    {
     "name": "stderr",
     "output_type": "stream",
     "text": [
      "\r",
      "                                                                                \r"
     ]
    }
   ],
   "source": [
    "df_f.groupby('label').count().show()"
   ]
  },
  {
   "cell_type": "markdown",
   "id": "4c60055d",
   "metadata": {},
   "source": [
    "### Distribution of Features"
   ]
  },
  {
   "cell_type": "code",
   "execution_count": 26,
   "id": "269144e6",
   "metadata": {},
   "outputs": [
    {
     "name": "stderr",
     "output_type": "stream",
     "text": [
      "                                                                                \r"
     ]
    },
    {
     "data": {
      "image/png": "[encoded data removed]",
      "text/plain": [
       "<Figure size 1800x1080 with 6 Axes>"
      ]
     },
     "metadata": {
      "needs_background": "light"
     },
     "output_type": "display_data"
    }
   ],
   "source": [
    "from matplotlib import cm\n",
    "fig = plt.figure(figsize=(25,15)) ## Plot Size \n",
    "st = fig.suptitle(\"Distribution of Features\", fontsize=25,\n",
    "                  verticalalignment='center') # Plot Main Title \n",
    "\n",
    "for col,num in zip(df_f.toPandas().describe().columns, range(1,8)):\n",
    "    ax = fig.add_subplot(2,3,num)\n",
    "    ax.hist(df_f.toPandas()[col])\n",
    "    #plt.style.use('dark_background') \n",
    "    plt.grid(False)\n",
    "    plt.xticks(fontsize=15)\n",
    "    plt.yticks(fontsize=15)\n",
    "    plt.title(col.upper(),fontsize=15)\n",
    "plt.tight_layout()\n",
    "st.set_y(0.95)\n",
    "fig.subplots_adjust(top=0.85,hspace = 0.4)\n",
    "plt.show()"
   ]
  },
  {
   "cell_type": "code",
   "execution_count": 27,
   "id": "3bef6fd8",
   "metadata": {},
   "outputs": [
    {
     "name": "stderr",
     "output_type": "stream",
     "text": [
      "[Stage 118:==============>                                          (1 + 3) / 4]\r"
     ]
    },
    {
     "name": "stdout",
     "output_type": "stream",
     "text": [
      "+----------+---------+-------+---------------+-------------+--------+---------+\n",
      "|DayofMonth|DayOfWeek|Carrier|OriginAirportID|DestAirportID|DepDelay|trueLabel|\n",
      "+----------+---------+-------+---------------+-------------+--------+---------+\n",
      "|         1|        1|     F9|          11292|        10140|      -2|        0|\n",
      "|         1|        1|     WN|          14107|        10140|       2|        0|\n",
      "|         8|        1|     WN|          14747|        10140|      13|        0|\n",
      "|        13|        1|     OO|          12266|        10140|      -6|        0|\n",
      "|        13|        1|     WN|          12889|        10140|      -5|        0|\n",
      "+----------+---------+-------+---------------+-------------+--------+---------+\n",
      "only showing top 5 rows\n",
      "\n"
     ]
    },
    {
     "name": "stderr",
     "output_type": "stream",
     "text": [
      "\r",
      "                                                                                \r"
     ]
    }
   ],
   "source": [
    "df_f = df_f.withColumnRenamed(\"label\", \"trueLabel\")\n",
    "df_f.show(5)"
   ]
  },
  {
   "cell_type": "markdown",
   "id": "6d5669c1",
   "metadata": {},
   "source": [
    "### Define the Pipeline and split the data "
   ]
  },
  {
   "cell_type": "code",
   "execution_count": 28,
   "id": "0813bed9",
   "metadata": {},
   "outputs": [],
   "source": [
    "from pyspark.ml.feature import VectorAssembler, StringIndexer, VectorIndexer, MinMaxScaler\n",
    "strIdx = StringIndexer(inputCol = \"Carrier\", outputCol = \"CarrierIdx\")\n",
    "catVect = VectorAssembler(inputCols = [\"CarrierIdx\", \"DayofMonth\", \"DayOfWeek\", \"OriginAirportID\", \"DestAirportID\"], outputCol=\"catFeatures\")\n",
    "catIdx = VectorIndexer(inputCol = catVect.getOutputCol(), outputCol = \"CatFeatures\")\n",
    "numVect = VectorAssembler(inputCols = [\"DepDelay\"], outputCol=\"numFeatures\")\n",
    "minMax = MinMaxScaler(inputCol = numVect.getOutputCol(), outputCol=\"normFeatures\")\n",
    "featVect = VectorAssembler(inputCols=[\"CatFeatures\", \"normFeatures\"], outputCol=\"features\")\n",
    "label_stringIdx = StringIndexer(inputCol = 'trueLabel', outputCol = 'label')\n",
    "train, test = df_f.randomSplit([0.8, 0.3], seed = 2018)\n"
   ]
  },
  {
   "cell_type": "markdown",
   "id": "27c10320",
   "metadata": {},
   "source": [
    "### build the logistic regression model"
   ]
  },
  {
   "cell_type": "code",
   "execution_count": 29,
   "id": "2263555c",
   "metadata": {},
   "outputs": [
    {
     "name": "stderr",
     "output_type": "stream",
     "text": [
      "22/05/04 21:52:23 WARN MemoryStore: Not enough space to cache rdd_428_1 in memory! (computed 17.0 MiB so far)\n",
      "22/05/04 21:52:23 WARN BlockManager: Persisting block rdd_428_1 to disk instead.\n",
      "22/05/04 21:52:24 WARN InstanceBuilder$NativeBLAS: Failed to load implementation from:dev.ludovic.netlib.blas.JNIBLAS\n",
      "22/05/04 21:52:24 WARN InstanceBuilder$NativeBLAS: Failed to load implementation from:dev.ludovic.netlib.blas.ForeignLinkerBLAS\n",
      "[Stage 181:==============>                                          (1 + 3) / 4]\r"
     ]
    }
   ],
   "source": [
    "from pyspark.ml.classification import LogisticRegression\n",
    "from pyspark.ml import Pipeline\n",
    "lr = LogisticRegression(labelCol=\"label\",featuresCol=\"features\",maxIter=10,regParam=0.3)\n",
    "\n",
    "pipeline = Pipeline(stages=[strIdx, catVect, catIdx, numVect, minMax, featVect,label_stringIdx, lr])\n",
    "#train the model\n",
    "lrmodel = pipeline.fit(train)"
   ]
  },
  {
   "cell_type": "markdown",
   "id": "85767fec",
   "metadata": {},
   "source": [
    "#### Evaluate our Logistic Regression model."
   ]
  },
  {
   "cell_type": "code",
   "execution_count": 30,
   "id": "3dc1b0ca",
   "metadata": {},
   "outputs": [
    {
     "name": "stderr",
     "output_type": "stream",
     "text": [
      "/Users/bding/Documents/Anaconda/anaconda3/lib/python3.9/site-packages/pyspark/sql/context.py:125: FutureWarning: Deprecated in 3.0.0. Use SparkSession.builder.getOrCreate() instead.\n",
      "  warnings.warn(\n",
      "                                                                                \r"
     ]
    },
    {
     "data": {
      "image/png": "[encoded data removed]",
      "text/plain": [
       "<Figure size 432x288 with 1 Axes>"
      ]
     },
     "metadata": {
      "needs_background": "light"
     },
     "output_type": "display_data"
    },
    {
     "name": "stdout",
     "output_type": "stream",
     "text": [
      "Training set areaUnderROC: 0.9230876647943471\n"
     ]
    }
   ],
   "source": [
    "trainingSummary = lrmodel.stages[-1].summary\n",
    "roc = trainingSummary.roc.toPandas()\n",
    "plt.plot(roc['FPR'],roc['TPR'])\n",
    "plt.ylabel('False Positive Rate')\n",
    "plt.xlabel('True Positive Rate')\n",
    "plt.title('ROC Curve')\n",
    "plt.show()\n",
    "print('Training set areaUnderROC: ' + str(trainingSummary.areaUnderROC))"
   ]
  },
  {
   "cell_type": "code",
   "execution_count": 31,
   "id": "fdabe91d",
   "metadata": {},
   "outputs": [
    {
     "name": "stderr",
     "output_type": "stream",
     "text": [
      "/Users/bding/Documents/Anaconda/anaconda3/lib/python3.9/site-packages/pyspark/sql/context.py:125: FutureWarning: Deprecated in 3.0.0. Use SparkSession.builder.getOrCreate() instead.\n",
      "  warnings.warn(\n"
     ]
    },
    {
     "data": {
      "image/png": "[encoded data removed]",
      "text/plain": [
       "<Figure size 432x288 with 1 Axes>"
      ]
     },
     "metadata": {
      "needs_background": "light"
     },
     "output_type": "display_data"
    }
   ],
   "source": [
    "pr = trainingSummary.pr.toPandas()\n",
    "plt.plot(pr['recall'],pr['precision'])\n",
    "plt.ylabel('Precision')\n",
    "plt.xlabel('Recall')\n",
    "plt.show()"
   ]
  },
  {
   "cell_type": "code",
   "execution_count": 32,
   "id": "b1d82f26",
   "metadata": {},
   "outputs": [
    {
     "name": "stderr",
     "output_type": "stream",
     "text": [
      "[Stage 210:==============>                                          (1 + 3) / 4]\r"
     ]
    },
    {
     "name": "stdout",
     "output_type": "stream",
     "text": [
      "Accuracy: 0.8239628460557584\n",
      "FPR: 0.7054879809302587\n",
      "TPR: 0.8239628460557584\n",
      "F-measure: 0.7633913157400253\n",
      "Precision: 0.8549054261842692\n",
      "Recall: 0.8239628460557584\n"
     ]
    },
    {
     "name": "stderr",
     "output_type": "stream",
     "text": [
      "\r",
      "[Stage 210:==========================================>              (3 + 1) / 4]\r",
      "\r",
      "                                                                                \r"
     ]
    }
   ],
   "source": [
    "accuracy = trainingSummary.accuracy\n",
    "falsePositiveRate = trainingSummary.weightedFalsePositiveRate\n",
    "truePositiveRate = trainingSummary.weightedTruePositiveRate\n",
    "fMeasure = trainingSummary.weightedFMeasure()\n",
    "precision = trainingSummary.weightedPrecision\n",
    "recall = trainingSummary.weightedRecall\n",
    "print(\"Accuracy: %s\\nFPR: %s\\nTPR: %s\\nF-measure: %s\\nPrecision: %s\\nRecall: %s\"\n",
    "      % (accuracy, falsePositiveRate, truePositiveRate, fMeasure, precision, recall))"
   ]
  },
  {
   "cell_type": "markdown",
   "id": "ee5614f6",
   "metadata": {},
   "source": [
    "#### Make predictions on the test set"
   ]
  },
  {
   "cell_type": "code",
   "execution_count": null,
   "id": "f521bc86",
   "metadata": {},
   "outputs": [],
   "source": [
    "predictions = lrmodel.transform(test)\n",
    "predictions_lr = predictions.select(\"features\", \"prediction\", \"trueLabel\")\n",
    "predictions_lr.show(5)\n",
    "predictions.show(5)"
   ]
  },
  {
   "cell_type": "code",
   "execution_count": 34,
   "id": "c3334fb1",
   "metadata": {},
   "outputs": [
    {
     "name": "stderr",
     "output_type": "stream",
     "text": [
      "                                                                                \r"
     ]
    },
    {
     "name": "stdout",
     "output_type": "stream",
     "text": [
      "+---------+-------------------+\n",
      "|   metric|              value|\n",
      "+---------+-------------------+\n",
      "|       TP|            17358.0|\n",
      "|       FP|               66.0|\n",
      "|       TN|           588738.0|\n",
      "|       FN|           129142.0|\n",
      "|Precision| 0.9962121212121212|\n",
      "|   Recall|0.11848464163822525|\n",
      "|       F1|0.21178106927600598|\n",
      "+---------+-------------------+\n",
      "\n"
     ]
    }
   ],
   "source": [
    "#Evaluating prediction results\n",
    "\n",
    "tp = float(predictions.filter(\"prediction == 1.0 AND label == 1\").count())\n",
    "fp = float(predictions.filter(\"prediction == 1.0 AND label == 0\").count())\n",
    "tn = float(predictions.filter(\"prediction == 0.0 AND label == 0\").count())\n",
    "fn = float(predictions.filter(\"prediction == 0.0 AND label == 1\").count())\n",
    "pr = tp / (tp + fp)\n",
    "re = tp / (tp + fn)\n",
    "metrics = spark.createDataFrame([\n",
    " (\"TP\", tp),\n",
    " (\"FP\", fp),\n",
    " (\"TN\", tn),\n",
    " (\"FN\", fn),\n",
    " (\"Precision\", pr),\n",
    " (\"Recall\", re),\n",
    " (\"F1\", 2*pr*re/(re+pr))],[\"metric\", \"value\"])\n",
    "metrics.show()"
   ]
  },
  {
   "cell_type": "code",
   "execution_count": 48,
   "id": "3b710f2b",
   "metadata": {},
   "outputs": [
    {
     "name": "stderr",
     "output_type": "stream",
     "text": [
      "[Stage 2353:>                                                       (0 + 4) / 4]\r"
     ]
    },
    {
     "name": "stdout",
     "output_type": "stream",
     "text": [
      "AUC =  0.9221235971359819\n"
     ]
    },
    {
     "name": "stderr",
     "output_type": "stream",
     "text": [
      "\r",
      "[Stage 2353:==============>                                         (1 + 3) / 4]\r",
      "\r",
      "                                                                                \r"
     ]
    }
   ],
   "source": [
    "#Evaluate our Logistic Regression model.\n",
    "from pyspark.ml.evaluation import BinaryClassificationEvaluator\n",
    "evaluator = BinaryClassificationEvaluator(labelCol=\"trueLabel\", rawPredictionCol=\"rawPrediction\", metricName=\"areaUnderROC\")\n",
    "print('AUC = ', evaluator.evaluate(predictions))"
   ]
  },
  {
   "cell_type": "code",
   "execution_count": 53,
   "id": "71eaf452",
   "metadata": {},
   "outputs": [
    {
     "name": "stderr",
     "output_type": "stream",
     "text": [
      "                                                                                \r"
     ]
    },
    {
     "name": "stdout",
     "output_type": "stream",
     "text": [
      "accuracy =  0.8242794816837662\n"
     ]
    }
   ],
   "source": [
    "from sklearn import metrics\n",
    "actual =predictions.select('label').toPandas()\n",
    "predicted = predictions.select('prediction').toPandas()\n",
    "accuracy = metrics.accuracy_score(actual, predicted)\n",
    "print('accuracy = ', accuracy)"
   ]
  },
  {
   "cell_type": "code",
   "execution_count": 56,
   "id": "923d1b73",
   "metadata": {},
   "outputs": [
    {
     "name": "stderr",
     "output_type": "stream",
     "text": [
      "/var/folders/gw/yh0lqvkx31988_00fxgrp7680000gn/T/ipykernel_9196/726484985.py:14: UserWarning: color is redundantly defined by the 'color' keyword argument and the fmt string \"k--\" (-> color='k'). The keyword argument will take precedence.\n",
      "  plt.plot([0,1], [0,1], 'k--', color='orange')\n"
     ]
    },
    {
     "data": {
      "image/png": "[encoded data removed]",
      "text/plain": [
       "<Figure size 432x288 with 1 Axes>"
      ]
     },
     "metadata": {
      "needs_background": "light"
     },
     "output_type": "display_data"
    }
   ],
   "source": [
    "import numpy as np\n",
    "import matplotlib.pyplot as plt\n",
    "pred_pd_full = predictions.select(['label', 'prediction', 'probability']).toPandas()\n",
    "pred_pd_full['probability'] = pred_pd_full['probability'].map(lambda x: list(x))\n",
    "pred_pd_full['encoded_label'] = pred_pd_full['label'].map(lambda x: np.eye(2)[int(x)])\n",
    "\n",
    "y_pred = np.array(pred_pd_full['probability'].tolist())\n",
    "y_true = np.array(pred_pd_full['encoded_label'].tolist())\n",
    "from sklearn.metrics import auc, roc_curve\n",
    "fpr, tpr, threshold = roc_curve(y_score=y_pred[:,0], y_true=y_true[:,0])\n",
    "auc = auc(fpr, tpr)\n",
    "\n",
    "\n",
    "plt.plot([0,1], [0,1], 'k--', color='orange')\n",
    "plt.plot(fpr, tpr, label='auc = {:.3f}'.format(auc))\n",
    "plt.xlabel('False positive rate')\n",
    "plt.ylabel('True positive rate')\n",
    "plt.title('ROC curve')\n",
    "plt.legend(loc='lower right')\n",
    "plt.grid()\n",
    "plt.show()"
   ]
  },
  {
   "cell_type": "markdown",
   "id": "e3430f9b",
   "metadata": {},
   "source": [
    "### Tune Parameters"
   ]
  },
  {
   "cell_type": "code",
   "execution_count": 37,
   "id": "6d4c74c9",
   "metadata": {},
   "outputs": [
    {
     "name": "stderr",
     "output_type": "stream",
     "text": [
      "22/05/04 22:40:25 WARN MemoryStore: Not enough space to cache rdd_2882_3 in memory! (computed 17.0 MiB so far)\n",
      "22/05/04 22:40:25 WARN BlockManager: Persisting block rdd_2882_3 to disk instead.\n",
      "[Stage 1273:==============>                                         (1 + 3) / 4]\r"
     ]
    },
    {
     "name": "stdout",
     "output_type": "stream",
     "text": [
      "2713.298790216446\n"
     ]
    }
   ],
   "source": [
    "import time\n",
    "t1 = time.time()\n",
    "paramGrid = ParamGridBuilder().addGrid(lr.regParam, [0.3, 0.1]).addGrid(lr.maxIter, [10, 5]).addGrid(lr.threshold, \n",
    "                                                                                            [0.4, 0.3]).build()\n",
    "cv = CrossValidator(estimator=pipeline, evaluator=BinaryClassificationEvaluator(), estimatorParamMaps=paramGrid, \n",
    "                    numFolds=2)\n",
    "\n",
    "model = cv.fit(train)\n",
    "t2 = time.time()\n",
    "print(t2-t1)"
   ]
  },
  {
   "cell_type": "code",
   "execution_count": 40,
   "id": "7d2e9178",
   "metadata": {},
   "outputs": [
    {
     "name": "stderr",
     "output_type": "stream",
     "text": [
      "22/05/05 00:29:30 WARN MemoryStore: Not enough space to cache rdd_5153_0 in memory! (computed 17.0 MiB so far)\n",
      "22/05/05 00:29:30 WARN BlockManager: Persisting block rdd_5153_0 to disk instead.\n",
      "[Stage 2260:==============>                                         (1 + 3) / 4]\r"
     ]
    },
    {
     "name": "stdout",
     "output_type": "stream",
     "text": [
      "CPU times: user 3.33 s, sys: 1.22 s, total: 4.55 s\n",
      "Wall time: 2h 38min 57s\n"
     ]
    }
   ],
   "source": [
    "%%time\n",
    "model = cv.fit(train)"
   ]
  },
  {
   "cell_type": "code",
   "execution_count": 43,
   "id": "6162f1b3",
   "metadata": {},
   "outputs": [
    {
     "name": "stderr",
     "output_type": "stream",
     "text": [
      "[Stage 2265:>                                                       (0 + 1) / 1]\r"
     ]
    },
    {
     "name": "stdout",
     "output_type": "stream",
     "text": [
      "+--------------------+----------+---------+\n",
      "|            features|prediction|trueLabel|\n",
      "+--------------------+----------+---------+\n",
      "|[10.0,1.0,0.0,103...|       0.0|        0|\n",
      "|[10.0,1.0,0.0,104...|       1.0|        1|\n",
      "|[10.0,1.0,0.0,105...|       0.0|        1|\n",
      "|[10.0,1.0,0.0,107...|       0.0|        1|\n",
      "|[10.0,1.0,0.0,108...|       0.0|        0|\n",
      "|[10.0,1.0,0.0,108...|       1.0|        1|\n",
      "|[10.0,1.0,0.0,110...|       0.0|        0|\n",
      "|[10.0,1.0,0.0,110...|       0.0|        0|\n",
      "|[10.0,1.0,0.0,111...|       1.0|        1|\n",
      "|[10.0,1.0,0.0,111...|       0.0|        1|\n",
      "|[10.0,1.0,0.0,111...|       0.0|        0|\n",
      "|[10.0,1.0,0.0,111...|       0.0|        0|\n",
      "|[10.0,1.0,0.0,111...|       0.0|        0|\n",
      "|[10.0,1.0,0.0,111...|       0.0|        0|\n",
      "|[10.0,1.0,0.0,111...|       0.0|        0|\n",
      "|[10.0,1.0,0.0,114...|       0.0|        0|\n",
      "|[10.0,1.0,0.0,114...|       0.0|        0|\n",
      "|[10.0,1.0,0.0,114...|       0.0|        0|\n",
      "|[10.0,1.0,0.0,114...|       0.0|        0|\n",
      "|[10.0,1.0,0.0,114...|       0.0|        0|\n",
      "+--------------------+----------+---------+\n",
      "only showing top 20 rows\n",
      "\n"
     ]
    },
    {
     "name": "stderr",
     "output_type": "stream",
     "text": [
      "\r",
      "                                                                                \r"
     ]
    }
   ],
   "source": [
    "newprediction = model.transform(test)\n",
    "newPredicted = newprediction.select(\"features\", \"prediction\", \"trueLabel\")\n",
    "newPredicted.show()"
   ]
  },
  {
   "cell_type": "code",
   "execution_count": 44,
   "id": "95a9cb76",
   "metadata": {},
   "outputs": [
    {
     "name": "stderr",
     "output_type": "stream",
     "text": [
      "                                                                                \r"
     ]
    },
    {
     "name": "stdout",
     "output_type": "stream",
     "text": [
      "+---------+------------------+\n",
      "|   metric|             value|\n",
      "+---------+------------------+\n",
      "|       TP|           79827.0|\n",
      "|       FP|            1594.0|\n",
      "|       TN|          587210.0|\n",
      "|       FN|           66673.0|\n",
      "|Precision|0.9804227410618882|\n",
      "|   Recall|0.5448941979522184|\n",
      "|       F1|0.7004795521255172|\n",
      "+---------+------------------+\n",
      "\n"
     ]
    }
   ],
   "source": [
    "# Recalculate confusion matrix\n",
    "tp2 = float(newPrediction.filter(\"prediction == 1.0 AND truelabel == 1\").count())\n",
    "fp2 = float(newPrediction.filter(\"prediction == 1.0 AND truelabel == 0\").count())\n",
    "tn2 = float(newPrediction.filter(\"prediction == 0.0 AND truelabel == 0\").count())\n",
    "fn2 = float(newPrediction.filter(\"prediction == 0.0 AND truelabel == 1\").count())\n",
    "pr2 = tp2 / (tp2 + fp2)\n",
    "re2 = tp2 / (tp2 + fn2)\n",
    "metrics2 = spark.createDataFrame([\n",
    " (\"TP\", tp2),\n",
    " (\"FP\", fp2),\n",
    " (\"TN\", tn2),\n",
    " (\"FN\", fn2),\n",
    " (\"Precision\", pr2),\n",
    " (\"Recall\", re2),\n",
    " (\"F1\", 2*pr2*re2/(re2+pr2))],[\"metric\", \"value\"])\n",
    "metrics2.show()"
   ]
  },
  {
   "cell_type": "code",
   "execution_count": 46,
   "id": "14b30c06",
   "metadata": {},
   "outputs": [
    {
     "name": "stderr",
     "output_type": "stream",
     "text": [
      "                                                                                \r"
     ]
    },
    {
     "name": "stdout",
     "output_type": "stream",
     "text": [
      "AUR2 =  0.9225255563467313\n"
     ]
    },
    {
     "name": "stderr",
     "output_type": "stream",
     "text": [
      "\r",
      "[Stage 2317:==============>                                         (1 + 3) / 4]\r",
      "\r",
      "                                                                                \r"
     ]
    }
   ],
   "source": [
    "# Recalculate the Area Under ROC\n",
    "evaluator2 = BinaryClassificationEvaluator(labelCol=\"trueLabel\", rawPredictionCol=\"prediction\", metricName=\"areaUnderROC\")\n",
    "aur2 = evaluator.evaluate(newprediction)\n",
    "print( \"AUR2 = \", aur2)"
   ]
  },
  {
   "cell_type": "code",
   "execution_count": 55,
   "id": "b97c6ecf",
   "metadata": {},
   "outputs": [
    {
     "name": "stderr",
     "output_type": "stream",
     "text": [
      "                                                                                \r"
     ]
    },
    {
     "name": "stdout",
     "output_type": "stream",
     "text": [
      "accuracy =  0.8242794816837662\n"
     ]
    }
   ],
   "source": [
    "actual =newprediction.select('label').toPandas()\n",
    "predicted = newprediction.select('prediction').toPandas()\n",
    "accuracy_new = metrics.accuracy_score(actual, predicted)\n",
    "print('accuracy = ', accuracy)"
   ]
  },
  {
   "cell_type": "code",
   "execution_count": null,
   "id": "75539013",
   "metadata": {},
   "outputs": [],
   "source": [
    "sc.stop()"
   ]
  }
 ],
 "metadata": {
  "kernelspec": {
   "display_name": "Python 3 (ipykernel)",
   "language": "python",
   "name": "python3"
  },
  "language_info": {
   "codemirror_mode": {
    "name": "ipython",
    "version": 3
   },
   "file_extension": ".py",
   "mimetype": "text/x-python",
   "name": "python",
   "nbconvert_exporter": "python",
   "pygments_lexer": "ipython3",
   "version": "3.9.7"
  }
 },
 "nbformat": 4,
 "nbformat_minor": 5
}
