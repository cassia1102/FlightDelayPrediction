{
 "cells": [
  {
   "cell_type": "code",
   "execution_count": 1,
   "id": "8d5e88f6",
   "metadata": {
    "scrolled": true
   },
   "outputs": [],
   "source": [
    "#pip install pyspark"
   ]
  },
  {
   "cell_type": "code",
   "execution_count": 2,
   "id": "3c16b382",
   "metadata": {},
   "outputs": [],
   "source": [
    "#conda install -c cyclus java-jdk"
   ]
  },
  {
   "cell_type": "code",
   "execution_count": 3,
   "id": "85c06f45",
   "metadata": {},
   "outputs": [],
   "source": [
    "#pip install py4j"
   ]
  },
  {
   "cell_type": "code",
   "execution_count": 4,
   "id": "21861970",
   "metadata": {},
   "outputs": [
    {
     "name": "stderr",
     "output_type": "stream",
     "text": [
      "Using Spark's default log4j profile: org/apache/spark/log4j-defaults.properties\n",
      "Setting default log level to \"WARN\".\n",
      "To adjust logging level use sc.setLogLevel(newLevel). For SparkR, use setLogLevel(newLevel).\n",
      "22/05/06 12:27:18 WARN NativeCodeLoader: Unable to load native-hadoop library for your platform... using builtin-java classes where applicable\n",
      "22/05/06 12:27:21 WARN Utils: Service 'SparkUI' could not bind on port 4040. Attempting port 4041.\n",
      "22/05/06 12:27:21 WARN Utils: Service 'SparkUI' could not bind on port 4041. Attempting port 4042.\n",
      "22/05/06 12:27:21 WARN Utils: Service 'SparkUI' could not bind on port 4042. Attempting port 4043.\n",
      "22/05/06 12:27:21 WARN Utils: Service 'SparkUI' could not bind on port 4043. Attempting port 4044.\n"
     ]
    }
   ],
   "source": [
    "#load pySpark modules \n",
    "from pyspark.ml.tuning import ParamGridBuilder, CrossValidator\n",
    "from pyspark.ml.evaluation import BinaryClassificationEvaluator\n",
    "from pyspark.ml.evaluation import RegressionEvaluator\n",
    "from pyspark.sql import functions as F\n",
    "from pyspark.sql import SparkSession\n",
    "from pyspark import SparkContext, SparkConf\n",
    "from pyspark.sql.types import *\n",
    "from pyspark.sql.functions import *\n",
    "import time\n",
    "spark = SparkSession.builder.getOrCreate()\n",
    "spark = SparkSession.builder \\\n",
    "    .master('local[*]') \\\n",
    "    .config(\"spark.driver.memory\", \"30g\") \\\n",
    "    .config('spark.executor.memory=30g')\\\n",
    "    .appName('final') \\\n",
    "    .getOrCreate()\n",
    "sc=spark.sparkContext"
   ]
  },
  {
   "cell_type": "code",
   "execution_count": 5,
   "id": "3aa17ef2",
   "metadata": {},
   "outputs": [],
   "source": [
    "#.config(\"spark.driver.memory\", \"15g\") \\"
   ]
  },
  {
   "cell_type": "code",
   "execution_count": 6,
   "id": "6c64dc2f",
   "metadata": {},
   "outputs": [
    {
     "name": "stderr",
     "output_type": "stream",
     "text": [
      "                                                                                \r"
     ]
    },
    {
     "name": "stdout",
     "output_type": "stream",
     "text": [
      "+----------+---------+-------+---------------+-------------+--------+--------+\n",
      "|DayofMonth|DayOfWeek|Carrier|OriginAirportID|DestAirportID|DepDelay|ArrDelay|\n",
      "+----------+---------+-------+---------------+-------------+--------+--------+\n",
      "|        19|        5|     DL|          11433|        13303|      -3|       1|\n",
      "|        19|        5|     DL|          14869|        12478|       0|      -8|\n",
      "|        19|        5|     DL|          14057|        14869|      -4|     -15|\n",
      "|        19|        5|     DL|          15016|        11433|      28|      24|\n",
      "|        19|        5|     DL|          11193|        12892|      -6|     -11|\n",
      "+----------+---------+-------+---------------+-------------+--------+--------+\n",
      "only showing top 5 rows\n",
      "\n",
      "+----------+-----------+-----+--------------------+\n",
      "|airport_id|       city|state|                name|\n",
      "+----------+-----------+-----+--------------------+\n",
      "|     10165|Adak Island|   AK|                Adak|\n",
      "|     10299|  Anchorage|   AK|Ted Stevens Ancho...|\n",
      "|     10304|      Aniak|   AK|       Aniak Airport|\n",
      "|     10754|     Barrow|   AK|Wiley Post/Will R...|\n",
      "|     10551|     Bethel|   AK|      Bethel Airport|\n",
      "+----------+-----------+-----+--------------------+\n",
      "only showing top 5 rows\n",
      "\n"
     ]
    }
   ],
   "source": [
    "#load flight data file into pySpark dataFrame format\n",
    "\n",
    "flight = spark.read.csv(\"flights.csv\", inferSchema=True, header=True)\n",
    "airports = spark.read.csv(\"airports.csv\", inferSchema=True, header=True)\n",
    "flight.show(5)\n",
    "airports.show(5)\n"
   ]
  },
  {
   "cell_type": "code",
   "execution_count": 7,
   "id": "19d18d81",
   "metadata": {},
   "outputs": [
    {
     "name": "stderr",
     "output_type": "stream",
     "text": [
      "[Stage 8:>                                                          (0 + 1) / 1]\r"
     ]
    },
    {
     "name": "stdout",
     "output_type": "stream",
     "text": [
      "+----------+---------+-------+---------------+-------------+--------+---------+\n",
      "|DayofMonth|DayOfWeek|Carrier|OriginAirportID|DestAirportID|DepDelay|trueLabel|\n",
      "+----------+---------+-------+---------------+-------------+--------+---------+\n",
      "|         6|        1|     WN|          10821|        10140|       1|        0|\n",
      "|         8|        1|     AA|          11298|        10140|       0|        0|\n",
      "|        15|        1|     WN|          14747|        10140|      -6|        0|\n",
      "|        27|        1|     AA|          11298|        10140|     113|        1|\n",
      "|         7|        2|     OO|          12266|        10140|      -3|        0|\n",
      "+----------+---------+-------+---------------+-------------+--------+---------+\n",
      "only showing top 5 rows\n",
      "\n"
     ]
    },
    {
     "name": "stderr",
     "output_type": "stream",
     "text": [
      "\r",
      "                                                                                \r"
     ]
    }
   ],
   "source": [
    "df_dis = flight.distinct()\n",
    "df_f = df_dis.select('DayofMonth','DayOfWeek','Carrier','OriginAirportID','DestAirportID','DepDelay',((col(\"ArrDelay\") > 15).cast(\"Int\").alias(\"label\")))\n",
    "df_f = df_f.withColumnRenamed(\"label\", \"trueLabel\")\n",
    "df_f.show(5)"
   ]
  },
  {
   "cell_type": "markdown",
   "id": "e64c63d9",
   "metadata": {},
   "source": [
    "### Define the Pipeline and split the data "
   ]
  },
  {
   "cell_type": "code",
   "execution_count": 24,
   "id": "0813bed9",
   "metadata": {},
   "outputs": [],
   "source": [
    "from pyspark.ml.feature import VectorAssembler, StringIndexer, VectorIndexer, MinMaxScaler\n",
    "strIdx = StringIndexer(inputCol = \"Carrier\", outputCol = \"CarrierIdx\")\n",
    "catVect = VectorAssembler(inputCols = [\"CarrierIdx\", \"DayofMonth\", \"DayOfWeek\", \"OriginAirportID\", \"DestAirportID\"], outputCol=\"catFeatures\")\n",
    "catIdx = VectorIndexer(inputCol = catVect.getOutputCol(), outputCol = \"idxCatFeatures\")\n",
    "numVect = VectorAssembler(inputCols = [\"DepDelay\"], outputCol=\"numFeatures\")\n",
    "minMax = MinMaxScaler(inputCol = numVect.getOutputCol(), outputCol=\"normFeatures\")\n",
    "featVect = VectorAssembler(inputCols=[\"idxCatFeatures\", \"normFeatures\"], outputCol=\"features\")\n",
    "label_stringIdx = StringIndexer(inputCol = 'trueLabel', outputCol = 'label')\n",
    "train, test = df_f.randomSplit([0.8, 0.2], seed = 2018)\n"
   ]
  },
  {
   "cell_type": "markdown",
   "id": "3bb21479",
   "metadata": {},
   "source": [
    "### build the LinearSVC model"
   ]
  },
  {
   "cell_type": "code",
   "execution_count": 25,
   "id": "19653163",
   "metadata": {},
   "outputs": [
    {
     "name": "stderr",
     "output_type": "stream",
     "text": [
      "22/05/06 17:56:31 WARN MemoryStore: Not enough space to cache rdd_1732_1 in memory! (computed 17.0 MiB so far)\n",
      "22/05/06 17:56:31 WARN BlockManager: Persisting block rdd_1732_1 to disk instead.\n",
      "[Stage 1149:==============>                                         (1 + 3) / 4]\r"
     ]
    },
    {
     "name": "stdout",
     "output_type": "stream",
     "text": [
      "70.66387987136841\n"
     ]
    }
   ],
   "source": [
    "from pyspark.ml.classification import LinearSVC\n",
    "from pyspark.ml import Pipeline\n",
    "# Train a DecisionTree model.\n",
    "SVC = LinearSVC(labelCol=\"label\",featuresCol=\"features\",maxIter=10, regParam=0.1)\n",
    "pipeline = Pipeline(stages=[strIdx, catVect, catIdx, numVect, minMax, featVect,label_stringIdx, SVC])\n",
    "# Fit the pipeline to training documents.\n",
    "t1 = time.time()\n",
    "SVCmodel = pipeline.fit(train)\n",
    "t2 = time.time()\n",
    "print(t2-t1)"
   ]
  },
  {
   "cell_type": "markdown",
   "id": "68011180",
   "metadata": {},
   "source": [
    "#### Make predictions on the test set"
   ]
  },
  {
   "cell_type": "code",
   "execution_count": 26,
   "id": "8a69c3e2",
   "metadata": {},
   "outputs": [
    {
     "name": "stderr",
     "output_type": "stream",
     "text": [
      "[Stage 1152:>                                                       (0 + 1) / 1]\r"
     ]
    },
    {
     "name": "stdout",
     "output_type": "stream",
     "text": [
      "+--------------------+-----+----------+---------+\n",
      "|            features|label|prediction|trueLabel|\n",
      "+--------------------+-----+----------+---------+\n",
      "|[10.0,1.0,0.0,103...|  0.0|       0.0|        0|\n",
      "|[10.0,1.0,0.0,104...|  0.0|       0.0|        0|\n",
      "|[10.0,1.0,0.0,107...|  0.0|       0.0|        0|\n",
      "|[10.0,1.0,0.0,107...|  1.0|       0.0|        1|\n",
      "|[10.0,1.0,0.0,107...|  0.0|       0.0|        0|\n",
      "+--------------------+-----+----------+---------+\n",
      "only showing top 5 rows\n",
      "\n"
     ]
    },
    {
     "name": "stderr",
     "output_type": "stream",
     "text": [
      "\r",
      "                                                                                \r"
     ]
    }
   ],
   "source": [
    "predictions = SVCmodel.transform(test)\n",
    "predictions_SVC = predictions.select(\"features\", 'label',\"prediction\", \"trueLabel\")\n",
    "predictions_SVC.show(5)\n",
    "#predictions.show(5)"
   ]
  },
  {
   "cell_type": "markdown",
   "id": "115edafe",
   "metadata": {},
   "source": [
    "#### Evaluate our  model."
   ]
  },
  {
   "cell_type": "code",
   "execution_count": 27,
   "id": "ecdde924",
   "metadata": {},
   "outputs": [
    {
     "name": "stderr",
     "output_type": "stream",
     "text": [
      "                                                                                \r"
     ]
    },
    {
     "name": "stdout",
     "output_type": "stream",
     "text": [
      "+---------+------------------+\n",
      "|   metric|             value|\n",
      "+---------+------------------+\n",
      "|       TP|           45639.0|\n",
      "|       FP|             235.0|\n",
      "|       TN|          431220.0|\n",
      "|       FN|           61751.0|\n",
      "|Precision|0.9948772725291014|\n",
      "|   Recall|0.4249837042555173|\n",
      "|       F1|0.5955606013153775|\n",
      "+---------+------------------+\n",
      "\n"
     ]
    }
   ],
   "source": [
    "#Evaluating prediction results\n",
    "\n",
    "tp = float(predictions.filter(\"prediction == 1.0 AND label == 1\").count())\n",
    "fp = float(predictions.filter(\"prediction == 1.0 AND label == 0\").count())\n",
    "tn = float(predictions.filter(\"prediction == 0.0 AND label == 0\").count())\n",
    "fn = float(predictions.filter(\"prediction == 0.0 AND label == 1\").count())\n",
    "pr = tp / (tp + fp)\n",
    "re = tp / (tp + fn)\n",
    "metrics = spark.createDataFrame([\n",
    " (\"TP\", tp),\n",
    " (\"FP\", fp),\n",
    " (\"TN\", tn),\n",
    " (\"FN\", fn),\n",
    " (\"Precision\", pr),\n",
    " (\"Recall\", re),\n",
    " (\"F1\", 2*pr*re/(re+pr))],[\"metric\", \"value\"])\n",
    "metrics.show()"
   ]
  },
  {
   "cell_type": "code",
   "execution_count": 28,
   "id": "619b6ac2",
   "metadata": {},
   "outputs": [
    {
     "name": "stderr",
     "output_type": "stream",
     "text": [
      "                                                                                \r"
     ]
    },
    {
     "name": "stdout",
     "output_type": "stream",
     "text": [
      "Test Area Under ROC 0.9236887751845569\n"
     ]
    }
   ],
   "source": [
    "#Evaluate our Logistic Regression model.\n",
    "from pyspark.ml.evaluation import BinaryClassificationEvaluator\n",
    "evaluator = BinaryClassificationEvaluator()\n",
    "print('Test Area Under ROC', evaluator.evaluate(predictions))"
   ]
  },
  {
   "cell_type": "code",
   "execution_count": 29,
   "id": "615acad9",
   "metadata": {},
   "outputs": [
    {
     "name": "stderr",
     "output_type": "stream",
     "text": [
      "                                                                                \r"
     ]
    },
    {
     "name": "stdout",
     "output_type": "stream",
     "text": [
      "accuracy =  0.8849650641650196\n"
     ]
    }
   ],
   "source": [
    "from sklearn import metrics\n",
    "actual =predictions.select('label').toPandas()\n",
    "predicted = predictions.select('prediction').toPandas()\n",
    "accuracy = metrics.accuracy_score(actual, predicted)\n",
    "print('accuracy = ', accuracy)"
   ]
  },
  {
   "cell_type": "raw",
   "id": "089292e1",
   "metadata": {},
   "source": [
    "import numpy as np\n",
    "import matplotlib.pyplot as plt\n",
    "pred_pd_full = predictions.select(['label', 'prediction', 'probability']).toPandas()\n",
    "pred_pd_full['probability'] = pred_pd_full['probability'].map(lambda x: list(x))\n",
    "pred_pd_full['encoded_label'] = pred_pd_full['label'].map(lambda x: np.eye(2)[int(x)])\n",
    "\n",
    "y_pred = np.array(pred_pd_full['probability'].tolist())\n",
    "y_true = np.array(pred_pd_full['encoded_label'].tolist())\n",
    "from sklearn.metrics import auc, roc_curve\n",
    "fpr, tpr, threshold = roc_curve(y_score=y_pred[:,0], y_true=y_true[:,0])\n",
    "auc = auc(fpr, tpr)\n",
    "\n",
    "\n",
    "plt.plot([0,1], [0,1], 'k--', color='orange')\n",
    "plt.plot(fpr, tpr, label='auc = {:.3f}'.format(auc))\n",
    "plt.xlabel('False positive rate')\n",
    "plt.ylabel('True positive rate')\n",
    "plt.title('ROC curve')\n",
    "plt.legend(loc='lower right')\n",
    "plt.grid()\n",
    "plt.show()"
   ]
  },
  {
   "cell_type": "code",
   "execution_count": 30,
   "id": "e449d5bf",
   "metadata": {},
   "outputs": [],
   "source": [
    "train5, test5 = df_f.randomSplit([0.5, 0.5], seed = 2000)\n",
    "train6, test6 = df_f.randomSplit([0.5, 0.5], seed = 2001)\n",
    "train7, test7 = df_f.randomSplit([0.5, 0.5], seed = 2002)\n",
    "train9, test9 = df_f.randomSplit([0.5, 0.5], seed = 2003)"
   ]
  },
  {
   "cell_type": "code",
   "execution_count": 31,
   "id": "ce007ef1",
   "metadata": {},
   "outputs": [
    {
     "name": "stderr",
     "output_type": "stream",
     "text": [
      "22/05/06 17:58:48 WARN MemoryStore: Not enough space to cache rdd_1938_1 in memory! (computed 17.0 MiB so far)\n",
      "22/05/06 17:58:48 WARN BlockManager: Persisting block rdd_1938_1 to disk instead.\n",
      "[Stage 1279:==========================================>             (3 + 1) / 4]\r"
     ]
    },
    {
     "name": "stdout",
     "output_type": "stream",
     "text": [
      "58.84494376182556\n"
     ]
    },
    {
     "name": "stderr",
     "output_type": "stream",
     "text": [
      "                                                                                \r"
     ]
    },
    {
     "name": "stdout",
     "output_type": "stream",
     "text": [
      "+---------+-------------------+\n",
      "|   metric|              value|\n",
      "+---------+-------------------+\n",
      "|       TP|           113687.0|\n",
      "|       FP|              632.0|\n",
      "|       TN|          1078855.0|\n",
      "|       FN|           155071.0|\n",
      "|Precision| 0.9944716101435457|\n",
      "|   Recall|0.42300880345887376|\n",
      "|       F1| 0.5935464671593439|\n",
      "+---------+-------------------+\n",
      "\n"
     ]
    },
    {
     "name": "stderr",
     "output_type": "stream",
     "text": [
      "[Stage 1321:>                                                       (0 + 4) / 4]\r"
     ]
    },
    {
     "name": "stdout",
     "output_type": "stream",
     "text": [
      "AUC =  0.924463975353851\n"
     ]
    },
    {
     "name": "stderr",
     "output_type": "stream",
     "text": [
      "\r",
      "[Stage 1321:============================>                           (2 + 2) / 4]\r",
      "\r",
      "                                                                                \r"
     ]
    }
   ],
   "source": [
    "#train the model\n",
    "t1 = time.time()\n",
    "SVCmodel = pipeline.fit(train5)\n",
    "t2 = time.time()\n",
    "print(t2-t1)\n",
    "#predict the model\n",
    "predictions5 = SVCmodel.transform(test5)\n",
    "#evaluate the model\n",
    "tp = float(predictions5.filter(\"prediction == 1.0 AND label == 1\").count())\n",
    "fp = float(predictions5.filter(\"prediction == 1.0 AND label == 0\").count())\n",
    "tn = float(predictions5.filter(\"prediction == 0.0 AND label == 0\").count())\n",
    "fn = float(predictions5.filter(\"prediction == 0.0 AND label == 1\").count())\n",
    "pr = tp / (tp + fp)\n",
    "re = tp / (tp + fn)\n",
    "metrics = spark.createDataFrame([\n",
    " (\"TP\", tp),\n",
    " (\"FP\", fp),\n",
    " (\"TN\", tn),\n",
    " (\"FN\", fn),\n",
    " (\"Precision\", pr),\n",
    " (\"Recall\", re),\n",
    " (\"F1\", 2*pr*re/(re+pr))],[\"metric\", \"value\"])\n",
    "metrics.show()\n",
    "#evaluate AUC\n",
    "evaluator = BinaryClassificationEvaluator(labelCol=\"trueLabel\", rawPredictionCol=\"rawPrediction\", metricName=\"areaUnderROC\")\n",
    "print('AUC = ', evaluator.evaluate(predictions5))\n"
   ]
  },
  {
   "cell_type": "code",
   "execution_count": 32,
   "id": "565111f2",
   "metadata": {},
   "outputs": [
    {
     "name": "stderr",
     "output_type": "stream",
     "text": [
      "[Stage 1400:==============>                                         (1 + 3) / 4]\r"
     ]
    },
    {
     "name": "stdout",
     "output_type": "stream",
     "text": [
      "62.54458689689636\n"
     ]
    },
    {
     "name": "stderr",
     "output_type": "stream",
     "text": [
      "                                                                                \r"
     ]
    },
    {
     "name": "stdout",
     "output_type": "stream",
     "text": [
      "+---------+------------------+\n",
      "|   metric|             value|\n",
      "+---------+------------------+\n",
      "|       TP|          113465.0|\n",
      "|       FP|             612.0|\n",
      "|       TN|         1078260.0|\n",
      "|       FN|          155985.0|\n",
      "|Precision|0.9946352025386361|\n",
      "|   Recall|0.4210985340508443|\n",
      "|       F1|0.5916923710716585|\n",
      "+---------+------------------+\n",
      "\n"
     ]
    },
    {
     "name": "stderr",
     "output_type": "stream",
     "text": [
      "[Stage 1442:>                                                       (0 + 4) / 4]\r"
     ]
    },
    {
     "name": "stdout",
     "output_type": "stream",
     "text": [
      "AUC =  0.9244869283681898\n"
     ]
    },
    {
     "name": "stderr",
     "output_type": "stream",
     "text": [
      "\r",
      "                                                                                \r"
     ]
    }
   ],
   "source": [
    "#train the model\n",
    "t1 = time.time()\n",
    "SVCmodel = pipeline.fit(train6)\n",
    "t2 = time.time()\n",
    "print(t2-t1)\n",
    "#predict the model\n",
    "predictions6 = SVCmodel.transform(test6)\n",
    "#evaluate the model\n",
    "tp = float(predictions6.filter(\"prediction == 1.0 AND label == 1\").count())\n",
    "fp = float(predictions6.filter(\"prediction == 1.0 AND label == 0\").count())\n",
    "tn = float(predictions6.filter(\"prediction == 0.0 AND label == 0\").count())\n",
    "fn = float(predictions6.filter(\"prediction == 0.0 AND label == 1\").count())\n",
    "pr = tp / (tp + fp)\n",
    "re = tp / (tp + fn)\n",
    "metrics = spark.createDataFrame([\n",
    " (\"TP\", tp),\n",
    " (\"FP\", fp),\n",
    " (\"TN\", tn),\n",
    " (\"FN\", fn),\n",
    " (\"Precision\", pr),\n",
    " (\"Recall\", re),\n",
    " (\"F1\", 2*pr*re/(re+pr))],[\"metric\", \"value\"])\n",
    "metrics.show()\n",
    "#evaluate AUC\n",
    "evaluator = BinaryClassificationEvaluator(labelCol=\"trueLabel\", rawPredictionCol=\"rawPrediction\", metricName=\"areaUnderROC\")\n",
    "print('AUC = ', evaluator.evaluate(predictions6))\n"
   ]
  },
  {
   "cell_type": "code",
   "execution_count": 33,
   "id": "17e74278",
   "metadata": {},
   "outputs": [
    {
     "name": "stderr",
     "output_type": "stream",
     "text": [
      "22/05/06 18:02:53 WARN MemoryStore: Not enough space to cache rdd_2308_1 in memory! (computed 17.0 MiB so far)\n",
      "22/05/06 18:02:53 WARN BlockManager: Persisting block rdd_2308_1 to disk instead.\n",
      "[Stage 1521:============================>                           (2 + 2) / 4]\r"
     ]
    },
    {
     "name": "stdout",
     "output_type": "stream",
     "text": [
      "64.90484881401062\n"
     ]
    },
    {
     "name": "stderr",
     "output_type": "stream",
     "text": [
      "                                                                                \r"
     ]
    },
    {
     "name": "stdout",
     "output_type": "stream",
     "text": [
      "+---------+-------------------+\n",
      "|   metric|              value|\n",
      "+---------+-------------------+\n",
      "|       TP|           113704.0|\n",
      "|       FP|              590.0|\n",
      "|       TN|          1078911.0|\n",
      "|       FN|           154949.0|\n",
      "|Precision| 0.9948378742541166|\n",
      "|   Recall|0.42323741033973195|\n",
      "|       F1| 0.5938367450326025|\n",
      "+---------+-------------------+\n",
      "\n"
     ]
    },
    {
     "name": "stderr",
     "output_type": "stream",
     "text": [
      "[Stage 1563:>                                                       (0 + 4) / 4]\r"
     ]
    },
    {
     "name": "stdout",
     "output_type": "stream",
     "text": [
      "AUC =  0.9247578464423215\n"
     ]
    },
    {
     "name": "stderr",
     "output_type": "stream",
     "text": [
      "\r",
      "[Stage 1563:============================>                           (2 + 2) / 4]\r",
      "\r",
      "                                                                                \r"
     ]
    }
   ],
   "source": [
    "#train the model\n",
    "t1 = time.time()\n",
    "SVCmodel = pipeline.fit(train7)\n",
    "t2 = time.time()\n",
    "print(t2-t1)\n",
    "#predict the model\n",
    "predictions7 = SVCmodel.transform(test7)\n",
    "#evaluate the model\n",
    "tp = float(predictions7.filter(\"prediction == 1.0 AND label == 1\").count())\n",
    "fp = float(predictions7.filter(\"prediction == 1.0 AND label == 0\").count())\n",
    "tn = float(predictions7.filter(\"prediction == 0.0 AND label == 0\").count())\n",
    "fn = float(predictions7.filter(\"prediction == 0.0 AND label == 1\").count())\n",
    "pr = tp / (tp + fp)\n",
    "re = tp / (tp + fn)\n",
    "metrics = spark.createDataFrame([\n",
    " (\"TP\", tp),\n",
    " (\"FP\", fp),\n",
    " (\"TN\", tn),\n",
    " (\"FN\", fn),\n",
    " (\"Precision\", pr),\n",
    " (\"Recall\", re),\n",
    " (\"F1\", 2*pr*re/(re+pr))],[\"metric\", \"value\"])\n",
    "metrics.show()\n",
    "#evaluate AUC\n",
    "evaluator = BinaryClassificationEvaluator(labelCol=\"trueLabel\", rawPredictionCol=\"rawPrediction\", metricName=\"areaUnderROC\")\n",
    "print('AUC = ', evaluator.evaluate(predictions7))"
   ]
  },
  {
   "cell_type": "code",
   "execution_count": 34,
   "id": "eceb5f9c",
   "metadata": {},
   "outputs": [
    {
     "name": "stderr",
     "output_type": "stream",
     "text": [
      "22/05/06 18:05:17 WARN MemoryStore: Not enough space to cache rdd_2493_3 in memory! (computed 17.0 MiB so far)\n",
      "22/05/06 18:05:17 WARN BlockManager: Persisting block rdd_2493_3 to disk instead.\n",
      "[Stage 1642:==========================================>             (3 + 1) / 4]\r"
     ]
    },
    {
     "name": "stdout",
     "output_type": "stream",
     "text": [
      "57.11459517478943\n"
     ]
    },
    {
     "name": "stderr",
     "output_type": "stream",
     "text": [
      "                                                                                \r"
     ]
    },
    {
     "name": "stdout",
     "output_type": "stream",
     "text": [
      "+---------+-------------------+\n",
      "|   metric|              value|\n",
      "+---------+-------------------+\n",
      "|       TP|           113778.0|\n",
      "|       FP|              602.0|\n",
      "|       TN|          1079021.0|\n",
      "|       FN|           154786.0|\n",
      "|Precision| 0.9947368421052631|\n",
      "|   Recall|0.42365320742914164|\n",
      "|       F1| 0.5942278766608172|\n",
      "+---------+-------------------+\n",
      "\n"
     ]
    },
    {
     "name": "stderr",
     "output_type": "stream",
     "text": [
      "[Stage 1684:>                                                       (0 + 4) / 4]\r"
     ]
    },
    {
     "name": "stdout",
     "output_type": "stream",
     "text": [
      "AUC =  0.9248464750926111\n"
     ]
    },
    {
     "name": "stderr",
     "output_type": "stream",
     "text": [
      "\r",
      "[Stage 1684:============================>                           (2 + 2) / 4]\r",
      "\r",
      "                                                                                \r"
     ]
    }
   ],
   "source": [
    "#train the model\n",
    "t1 = time.time()\n",
    "SVCmodel = pipeline.fit(train9)\n",
    "t2 = time.time()\n",
    "print(t2-t1)\n",
    "#predict the model\n",
    "predictions9 = SVCmodel.transform(test9)\n",
    "#evaluate the model\n",
    "tp = float(predictions9.filter(\"prediction == 1.0 AND label == 1\").count())\n",
    "fp = float(predictions9.filter(\"prediction == 1.0 AND label == 0\").count())\n",
    "tn = float(predictions9.filter(\"prediction == 0.0 AND label == 0\").count())\n",
    "fn = float(predictions9.filter(\"prediction == 0.0 AND label == 1\").count())\n",
    "pr = tp / (tp + fp)\n",
    "re = tp / (tp + fn)\n",
    "metrics = spark.createDataFrame([\n",
    " (\"TP\", tp),\n",
    " (\"FP\", fp),\n",
    " (\"TN\", tn),\n",
    " (\"FN\", fn),\n",
    " (\"Precision\", pr),\n",
    " (\"Recall\", re),\n",
    " (\"F1\", 2*pr*re/(re+pr))],[\"metric\", \"value\"])\n",
    "metrics.show()\n",
    "#evaluate AUC\n",
    "evaluator = BinaryClassificationEvaluator(labelCol=\"trueLabel\", rawPredictionCol=\"rawPrediction\", metricName=\"areaUnderROC\")\n",
    "print('AUC = ', evaluator.evaluate(predictions9))"
   ]
  },
  {
   "cell_type": "code",
   "execution_count": 35,
   "id": "8edc4d74",
   "metadata": {},
   "outputs": [
    {
     "name": "stderr",
     "output_type": "stream",
     "text": [
      "                                                                                \r"
     ]
    },
    {
     "name": "stdout",
     "output_type": "stream",
     "text": [
      "accuracy =  0.8845143130514113\n"
     ]
    }
   ],
   "source": [
    "from sklearn import metrics\n",
    "actual5 =predictions5.select('label').toPandas()\n",
    "predicted5 = predictions5.select('prediction').toPandas()\n",
    "accuracy5 = metrics.accuracy_score(actual5, predicted5)\n",
    "print('accuracy = ', accuracy5)"
   ]
  },
  {
   "cell_type": "code",
   "execution_count": 36,
   "id": "50c75bdd",
   "metadata": {},
   "outputs": [
    {
     "name": "stderr",
     "output_type": "stream",
     "text": [
      "                                                                                \r"
     ]
    },
    {
     "name": "stdout",
     "output_type": "stream",
     "text": [
      "accuracy6 =  0.8838578618460575\n"
     ]
    }
   ],
   "source": [
    "#evaluate accuracy\n",
    "actual6 =predictions6.select('label').toPandas()\n",
    "predicted6 = predictions6.select('prediction').toPandas()\n",
    "accuracy6= metrics.accuracy_score(actual6, predicted6)\n",
    "print('accuracy6 = ', accuracy6)"
   ]
  },
  {
   "cell_type": "code",
   "execution_count": 37,
   "id": "8315d9ce",
   "metadata": {},
   "outputs": [
    {
     "name": "stderr",
     "output_type": "stream",
     "text": [
      "                                                                                \r"
     ]
    },
    {
     "name": "stdout",
     "output_type": "stream",
     "text": [
      "accuracy7 =  0.8846281656249954\n"
     ]
    }
   ],
   "source": [
    "#evaluate accuracy\n",
    "actual7 =predictions7.select('label').toPandas()\n",
    "predicted7 = predictions7.select('prediction').toPandas()\n",
    "accuracy7 = metrics.accuracy_score(actual7, predicted7)\n",
    "print('accuracy7 = ', accuracy7)"
   ]
  },
  {
   "cell_type": "code",
   "execution_count": 38,
   "id": "8e7514fc",
   "metadata": {},
   "outputs": [
    {
     "name": "stderr",
     "output_type": "stream",
     "text": [
      "                                                                                \r"
     ]
    },
    {
     "name": "stdout",
     "output_type": "stream",
     "text": [
      "accuracy9 =  0.884742991884657\n"
     ]
    }
   ],
   "source": [
    "#evaluate accuracy\n",
    "actual9 =predictions9.select('label').toPandas()\n",
    "predicted9 = predictions9.select('prediction').toPandas()\n",
    "accuracy9 = metrics.accuracy_score(actual9, predicted9)\n",
    "print('accuracy9 = ', accuracy9)"
   ]
  },
  {
   "cell_type": "code",
   "execution_count": null,
   "id": "b97c6ecf",
   "metadata": {},
   "outputs": [],
   "source": [
    "#sc.stop()"
   ]
  },
  {
   "cell_type": "code",
   "execution_count": null,
   "id": "d8c6a786",
   "metadata": {},
   "outputs": [],
   "source": []
  },
  {
   "cell_type": "code",
   "execution_count": null,
   "id": "cd7bb525",
   "metadata": {},
   "outputs": [],
   "source": []
  }
 ],
 "metadata": {
  "kernelspec": {
   "display_name": "Python 3 (ipykernel)",
   "language": "python",
   "name": "python3"
  },
  "language_info": {
   "codemirror_mode": {
    "name": "ipython",
    "version": 3
   },
   "file_extension": ".py",
   "mimetype": "text/x-python",
   "name": "python",
   "nbconvert_exporter": "python",
   "pygments_lexer": "ipython3",
   "version": "3.9.7"
  }
 },
 "nbformat": 4,
 "nbformat_minor": 5
}
